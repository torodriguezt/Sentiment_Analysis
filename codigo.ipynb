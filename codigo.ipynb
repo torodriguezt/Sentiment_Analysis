{
 "cells": [
  {
   "cell_type": "code",
   "execution_count": 182,
   "metadata": {},
   "outputs": [],
   "source": [
    "import os\n",
    "import xml.etree.ElementTree as ET\n",
    "\n",
    "import pandas as pd\n",
    "import numpy as np\n",
    "import requests\n",
    "import regex as re\n",
    "import matplotlib.pyplot as plt\n",
    "import nltk\n",
    "from sklearn.model_selection import train_test_split, cross_val_score\n",
    "from sklearn.feature_extraction.text import CountVectorizer, TfidfTransformer\n",
    "from sklearn.linear_model import LogisticRegression\n",
    "from sklearn.tree import DecisionTreeClassifier\n",
    "from sklearn.neighbors import KNeighborsClassifier\n",
    "from sklearn.metrics import classification_report, f1_score\n",
    "from nltk.tokenize import word_tokenize\n",
    "from nltk.corpus import stopwords\n",
    "from nltk.stem import SnowballStemmer\n",
    "import seaborn as sns"
   ]
  },
  {
   "cell_type": "code",
   "execution_count": 116,
   "metadata": {},
   "outputs": [],
   "source": [
    "stemmer = SnowballStemmer('spanish')"
   ]
  },
  {
   "cell_type": "code",
   "execution_count": 117,
   "metadata": {},
   "outputs": [
    {
     "name": "stderr",
     "output_type": "stream",
     "text": [
      "[nltk_data] Downloading package punkt to\n",
      "[nltk_data]     C:\\Users\\57320\\AppData\\Roaming\\nltk_data...\n",
      "[nltk_data]   Package punkt is already up-to-date!\n"
     ]
    },
    {
     "data": {
      "text/plain": [
       "True"
      ]
     },
     "execution_count": 117,
     "metadata": {},
     "output_type": "execute_result"
    }
   ],
   "source": [
    "nltk.download('punkt')"
   ]
  },
  {
   "cell_type": "code",
   "execution_count": 118,
   "metadata": {},
   "outputs": [
    {
     "name": "stderr",
     "output_type": "stream",
     "text": [
      "[nltk_data] Downloading package stopwords to\n",
      "[nltk_data]     C:\\Users\\57320\\AppData\\Roaming\\nltk_data...\n",
      "[nltk_data]   Package stopwords is already up-to-date!\n"
     ]
    }
   ],
   "source": [
    "nltk.download('stopwords')\n",
    "stopwords_es = set(stopwords.words('spanish')) "
   ]
  },
  {
   "cell_type": "code",
   "execution_count": 119,
   "metadata": {},
   "outputs": [],
   "source": [
    "stopwords_es_list = list(stopwords_es)"
   ]
  },
  {
   "cell_type": "code",
   "execution_count": 120,
   "metadata": {},
   "outputs": [],
   "source": [
    "os.makedirs('pos', exist_ok=True)\n",
    "os.makedirs('neg', exist_ok=True)"
   ]
  },
  {
   "cell_type": "code",
   "execution_count": 121,
   "metadata": {},
   "outputs": [],
   "source": [
    "# URL para descargar el XML\n",
    "url = \"http://tass.sepln.org/tass_data/dataset/general-train-tagged-3l.xml\"\n",
    "response = requests.get(url)\n",
    "\n",
    "# Parsear el contenido XML\n",
    "root = ET.fromstring(response.content)\n",
    "\n",
    "tweets_data = []\n",
    "for tweet in root.findall('tweet'):\n",
    "    tweetid = tweet.find('tweetid').text\n",
    "    user = tweet.find('user').text\n",
    "    content_element = tweet.find('content')\n",
    "    content = content_element.text.strip() if content_element is not None and content_element.text is not None else None\n",
    "    date = tweet.find('date').text\n",
    "    lang = tweet.find('lang').text\n",
    "    sentiment = tweet.find('sentiments/polarity/value').text if tweet.find('sentiments/polarity/value') is not None else None\n",
    "\n",
    "    tweets_data.append({\n",
    "        'tweetid': tweetid,\n",
    "        'user': user,\n",
    "        'content': content,\n",
    "        'date': date,\n",
    "        'lang': lang,\n",
    "        'sentiment': sentiment\n",
    "    })\n",
    "\n",
    "# Crear un DataFrame\n",
    "df_train = pd.DataFrame(tweets_data)"
   ]
  },
  {
   "cell_type": "code",
   "execution_count": 122,
   "metadata": {},
   "outputs": [
    {
     "data": {
      "text/html": [
       "<div>\n",
       "<style scoped>\n",
       "    .dataframe tbody tr th:only-of-type {\n",
       "        vertical-align: middle;\n",
       "    }\n",
       "\n",
       "    .dataframe tbody tr th {\n",
       "        vertical-align: top;\n",
       "    }\n",
       "\n",
       "    .dataframe thead th {\n",
       "        text-align: right;\n",
       "    }\n",
       "</style>\n",
       "<table border=\"1\" class=\"dataframe\">\n",
       "  <thead>\n",
       "    <tr style=\"text-align: right;\">\n",
       "      <th></th>\n",
       "      <th>tweetid</th>\n",
       "      <th>user</th>\n",
       "      <th>content</th>\n",
       "      <th>date</th>\n",
       "      <th>lang</th>\n",
       "      <th>sentiment</th>\n",
       "    </tr>\n",
       "  </thead>\n",
       "  <tbody>\n",
       "    <tr>\n",
       "      <th>0</th>\n",
       "      <td>142389495503925248</td>\n",
       "      <td>ccifuentes</td>\n",
       "      <td>Salgo de #VeoTV , que día más largoooooo...</td>\n",
       "      <td>2011-12-02T00:47:55</td>\n",
       "      <td>es</td>\n",
       "      <td>NONE</td>\n",
       "    </tr>\n",
       "    <tr>\n",
       "      <th>1</th>\n",
       "      <td>142389933619945473</td>\n",
       "      <td>CarmendelRiego</td>\n",
       "      <td>@PauladeLasHeras No te libraras de ayudar me/n...</td>\n",
       "      <td>2011-12-02T00:49:40</td>\n",
       "      <td>es</td>\n",
       "      <td>NEU</td>\n",
       "    </tr>\n",
       "    <tr>\n",
       "      <th>2</th>\n",
       "      <td>142391947707940864</td>\n",
       "      <td>CarmendelRiego</td>\n",
       "      <td>@marodriguezb Gracias MAR</td>\n",
       "      <td>2011-12-02T00:57:40</td>\n",
       "      <td>es</td>\n",
       "      <td>P</td>\n",
       "    </tr>\n",
       "    <tr>\n",
       "      <th>3</th>\n",
       "      <td>142416095012339712</td>\n",
       "      <td>mgilguerrero</td>\n",
       "      <td>Off pensando en el regalito Sinde, la que se v...</td>\n",
       "      <td>2011-12-02T02:33:37</td>\n",
       "      <td>es</td>\n",
       "      <td>N</td>\n",
       "    </tr>\n",
       "    <tr>\n",
       "      <th>4</th>\n",
       "      <td>142422495721562112</td>\n",
       "      <td>paurubio</td>\n",
       "      <td>Conozco a alguien q es adicto al drama! Ja ja ...</td>\n",
       "      <td>2011-12-02T02:59:03</td>\n",
       "      <td>es</td>\n",
       "      <td>P</td>\n",
       "    </tr>\n",
       "    <tr>\n",
       "      <th>...</th>\n",
       "      <td>...</td>\n",
       "      <td>...</td>\n",
       "      <td>...</td>\n",
       "      <td>...</td>\n",
       "      <td>...</td>\n",
       "      <td>...</td>\n",
       "    </tr>\n",
       "    <tr>\n",
       "      <th>7214</th>\n",
       "      <td>189809904935120896</td>\n",
       "      <td>mariviromero</td>\n",
       "      <td>Muy indignante si ...nadie repara en ello hoy ...</td>\n",
       "      <td>2012-04-10T22:19:42</td>\n",
       "      <td>es</td>\n",
       "      <td>N</td>\n",
       "    </tr>\n",
       "    <tr>\n",
       "      <th>7215</th>\n",
       "      <td>189814854503235584</td>\n",
       "      <td>mariviromero</td>\n",
       "      <td>Más pobres por discriminar a la mujer http://t...</td>\n",
       "      <td>2012-04-10T22:39:22</td>\n",
       "      <td>es</td>\n",
       "      <td>N</td>\n",
       "    </tr>\n",
       "    <tr>\n",
       "      <th>7216</th>\n",
       "      <td>189815389021143041</td>\n",
       "      <td>mariviromero</td>\n",
       "      <td>Crean un banco de productos para mujeres con c...</td>\n",
       "      <td>2012-04-10T22:41:30</td>\n",
       "      <td>es</td>\n",
       "      <td>P</td>\n",
       "    </tr>\n",
       "    <tr>\n",
       "      <th>7217</th>\n",
       "      <td>189824278827507712</td>\n",
       "      <td>Tonicanto1</td>\n",
       "      <td>Sobre la sorprendente huída hoy en el Senado d...</td>\n",
       "      <td>2012-04-10T23:16:49</td>\n",
       "      <td>es</td>\n",
       "      <td>N</td>\n",
       "    </tr>\n",
       "    <tr>\n",
       "      <th>7218</th>\n",
       "      <td>189830265655410688</td>\n",
       "      <td>RodolfoIrago</td>\n",
       "      <td>#CorreMarianoCorre está muy bien pero la versi...</td>\n",
       "      <td>2012-04-10T23:40:36</td>\n",
       "      <td>es</td>\n",
       "      <td>P</td>\n",
       "    </tr>\n",
       "  </tbody>\n",
       "</table>\n",
       "<p>7219 rows × 6 columns</p>\n",
       "</div>"
      ],
      "text/plain": [
       "                 tweetid            user  \\\n",
       "0     142389495503925248      ccifuentes   \n",
       "1     142389933619945473  CarmendelRiego   \n",
       "2     142391947707940864  CarmendelRiego   \n",
       "3     142416095012339712    mgilguerrero   \n",
       "4     142422495721562112        paurubio   \n",
       "...                  ...             ...   \n",
       "7214  189809904935120896    mariviromero   \n",
       "7215  189814854503235584    mariviromero   \n",
       "7216  189815389021143041    mariviromero   \n",
       "7217  189824278827507712      Tonicanto1   \n",
       "7218  189830265655410688    RodolfoIrago   \n",
       "\n",
       "                                                content                 date  \\\n",
       "0           Salgo de #VeoTV , que día más largoooooo...  2011-12-02T00:47:55   \n",
       "1     @PauladeLasHeras No te libraras de ayudar me/n...  2011-12-02T00:49:40   \n",
       "2                             @marodriguezb Gracias MAR  2011-12-02T00:57:40   \n",
       "3     Off pensando en el regalito Sinde, la que se v...  2011-12-02T02:33:37   \n",
       "4     Conozco a alguien q es adicto al drama! Ja ja ...  2011-12-02T02:59:03   \n",
       "...                                                 ...                  ...   \n",
       "7214  Muy indignante si ...nadie repara en ello hoy ...  2012-04-10T22:19:42   \n",
       "7215  Más pobres por discriminar a la mujer http://t...  2012-04-10T22:39:22   \n",
       "7216  Crean un banco de productos para mujeres con c...  2012-04-10T22:41:30   \n",
       "7217  Sobre la sorprendente huída hoy en el Senado d...  2012-04-10T23:16:49   \n",
       "7218  #CorreMarianoCorre está muy bien pero la versi...  2012-04-10T23:40:36   \n",
       "\n",
       "     lang sentiment  \n",
       "0      es      NONE  \n",
       "1      es       NEU  \n",
       "2      es         P  \n",
       "3      es         N  \n",
       "4      es         P  \n",
       "...   ...       ...  \n",
       "7214   es         N  \n",
       "7215   es         N  \n",
       "7216   es         P  \n",
       "7217   es         N  \n",
       "7218   es         P  \n",
       "\n",
       "[7219 rows x 6 columns]"
      ]
     },
     "execution_count": 122,
     "metadata": {},
     "output_type": "execute_result"
    }
   ],
   "source": [
    "df_train"
   ]
  },
  {
   "cell_type": "code",
   "execution_count": 123,
   "metadata": {},
   "outputs": [
    {
     "data": {
      "text/html": [
       "<div>\n",
       "<style scoped>\n",
       "    .dataframe tbody tr th:only-of-type {\n",
       "        vertical-align: middle;\n",
       "    }\n",
       "\n",
       "    .dataframe tbody tr th {\n",
       "        vertical-align: top;\n",
       "    }\n",
       "\n",
       "    .dataframe thead th {\n",
       "        text-align: right;\n",
       "    }\n",
       "</style>\n",
       "<table border=\"1\" class=\"dataframe\">\n",
       "  <thead>\n",
       "    <tr style=\"text-align: right;\">\n",
       "      <th></th>\n",
       "      <th>tweetid</th>\n",
       "      <th>user</th>\n",
       "      <th>content</th>\n",
       "      <th>date</th>\n",
       "      <th>lang</th>\n",
       "    </tr>\n",
       "    <tr>\n",
       "      <th>sentiment</th>\n",
       "      <th></th>\n",
       "      <th></th>\n",
       "      <th></th>\n",
       "      <th></th>\n",
       "      <th></th>\n",
       "    </tr>\n",
       "  </thead>\n",
       "  <tbody>\n",
       "    <tr>\n",
       "      <th>N</th>\n",
       "      <td>2182</td>\n",
       "      <td>2182</td>\n",
       "      <td>2182</td>\n",
       "      <td>2182</td>\n",
       "      <td>2182</td>\n",
       "    </tr>\n",
       "    <tr>\n",
       "      <th>NEU</th>\n",
       "      <td>670</td>\n",
       "      <td>670</td>\n",
       "      <td>670</td>\n",
       "      <td>670</td>\n",
       "      <td>670</td>\n",
       "    </tr>\n",
       "    <tr>\n",
       "      <th>NONE</th>\n",
       "      <td>1483</td>\n",
       "      <td>1483</td>\n",
       "      <td>1482</td>\n",
       "      <td>1483</td>\n",
       "      <td>1483</td>\n",
       "    </tr>\n",
       "    <tr>\n",
       "      <th>P</th>\n",
       "      <td>2884</td>\n",
       "      <td>2884</td>\n",
       "      <td>2884</td>\n",
       "      <td>2884</td>\n",
       "      <td>2884</td>\n",
       "    </tr>\n",
       "  </tbody>\n",
       "</table>\n",
       "</div>"
      ],
      "text/plain": [
       "           tweetid  user  content  date  lang\n",
       "sentiment                                    \n",
       "N             2182  2182     2182  2182  2182\n",
       "NEU            670   670      670   670   670\n",
       "NONE          1483  1483     1482  1483  1483\n",
       "P             2884  2884     2884  2884  2884"
      ]
     },
     "execution_count": 123,
     "metadata": {},
     "output_type": "execute_result"
    }
   ],
   "source": [
    "df_train.groupby(\"sentiment\").count()"
   ]
  },
  {
   "cell_type": "code",
   "execution_count": 124,
   "metadata": {},
   "outputs": [],
   "source": [
    "import pandas as pd\n",
    "import requests\n",
    "import xml.etree.ElementTree as ET\n",
    "\n",
    "url = \"http://tass.sepln.org/tass_data/dataset/general-test-tagged-3l.xml\"\n",
    "response = requests.get(url)\n",
    "\n",
    "# Parsear el contenido XML\n",
    "root = ET.fromstring(response.content)\n",
    "\n",
    "tweets_data = []\n",
    "for tweet in root.findall('tweet'):\n",
    "    tweetid = tweet.find('tweetid').text\n",
    "    user = tweet.find('user').text\n",
    "    content = tweet.find('content').text.strip() if tweet.find('content') is not None else None\n",
    "    date = tweet.find('date').text\n",
    "    lang = tweet.find('lang').text\n",
    "    sentiment = tweet.find('sentiments/polarity/value').text if tweet.find('sentiments/polarity/value') is not None else None\n",
    "    \n",
    "    tweets_data.append({\n",
    "        'tweetid': tweetid,\n",
    "        'user': user,\n",
    "        'content': content,\n",
    "        'date': date,\n",
    "        'lang': lang,\n",
    "        'sentiment': sentiment\n",
    "    })\n",
    "\n",
    "df_test = pd.DataFrame(tweets_data)"
   ]
  },
  {
   "cell_type": "code",
   "execution_count": 125,
   "metadata": {},
   "outputs": [
    {
     "data": {
      "text/html": [
       "<div>\n",
       "<style scoped>\n",
       "    .dataframe tbody tr th:only-of-type {\n",
       "        vertical-align: middle;\n",
       "    }\n",
       "\n",
       "    .dataframe tbody tr th {\n",
       "        vertical-align: top;\n",
       "    }\n",
       "\n",
       "    .dataframe thead th {\n",
       "        text-align: right;\n",
       "    }\n",
       "</style>\n",
       "<table border=\"1\" class=\"dataframe\">\n",
       "  <thead>\n",
       "    <tr style=\"text-align: right;\">\n",
       "      <th></th>\n",
       "      <th>tweetid</th>\n",
       "      <th>user</th>\n",
       "      <th>content</th>\n",
       "      <th>date</th>\n",
       "      <th>lang</th>\n",
       "      <th>sentiment</th>\n",
       "    </tr>\n",
       "  </thead>\n",
       "  <tbody>\n",
       "    <tr>\n",
       "      <th>0</th>\n",
       "      <td>142378325086715906</td>\n",
       "      <td>jesusmarana</td>\n",
       "      <td>Portada 'Público', viernes. Fabra al banquillo...</td>\n",
       "      <td>2011-12-02T00:03:32</td>\n",
       "      <td>es</td>\n",
       "      <td>N</td>\n",
       "    </tr>\n",
       "    <tr>\n",
       "      <th>1</th>\n",
       "      <td>142379080808013825</td>\n",
       "      <td>EvaORegan</td>\n",
       "      <td>Grande! RT @veronicacalderon \"El periodista es...</td>\n",
       "      <td>2011-12-02T00:06:32</td>\n",
       "      <td>es</td>\n",
       "      <td>NONE</td>\n",
       "    </tr>\n",
       "    <tr>\n",
       "      <th>2</th>\n",
       "      <td>142379173120442368</td>\n",
       "      <td>LosadaPescador</td>\n",
       "      <td>Gonzalo Altozano tras la presentación de su li...</td>\n",
       "      <td>2011-12-02T00:06:55</td>\n",
       "      <td>es</td>\n",
       "      <td>P</td>\n",
       "    </tr>\n",
       "    <tr>\n",
       "      <th>3</th>\n",
       "      <td>142379815708803072</td>\n",
       "      <td>mgilguerrero</td>\n",
       "      <td>Mañana en Gaceta: TVE, la que pagamos tú y yo,...</td>\n",
       "      <td>2011-12-02T00:09:28</td>\n",
       "      <td>es</td>\n",
       "      <td>N</td>\n",
       "    </tr>\n",
       "    <tr>\n",
       "      <th>4</th>\n",
       "      <td>142381190123499520</td>\n",
       "      <td>pedroj_ramirez</td>\n",
       "      <td>Qué envidia “@mfcastineiras: Pedro mañana x la...</td>\n",
       "      <td>2011-12-02T00:14:55</td>\n",
       "      <td>es</td>\n",
       "      <td>NONE</td>\n",
       "    </tr>\n",
       "    <tr>\n",
       "      <th>...</th>\n",
       "      <td>...</td>\n",
       "      <td>...</td>\n",
       "      <td>...</td>\n",
       "      <td>...</td>\n",
       "      <td>...</td>\n",
       "      <td>...</td>\n",
       "    </tr>\n",
       "    <tr>\n",
       "      <th>60793</th>\n",
       "      <td>189828399030747136</td>\n",
       "      <td>sanchez_sonia</td>\n",
       "      <td>@Juandecolmenero @angelrubioti @barbara_ruizp ...</td>\n",
       "      <td>2012-04-10T23:33:11</td>\n",
       "      <td>es</td>\n",
       "      <td>P</td>\n",
       "    </tr>\n",
       "    <tr>\n",
       "      <th>60794</th>\n",
       "      <td>189828787582664704</td>\n",
       "      <td>Albert_Rivera</td>\n",
       "      <td>Escuchan lo que quieren RT @almudenanegro: El ...</td>\n",
       "      <td>2012-04-10T23:34:44</td>\n",
       "      <td>es</td>\n",
       "      <td>NONE</td>\n",
       "    </tr>\n",
       "    <tr>\n",
       "      <th>60795</th>\n",
       "      <td>189830088437665792</td>\n",
       "      <td>BelenHoyo</td>\n",
       "      <td>¿A qué espera el alcalde promarihuana independ...</td>\n",
       "      <td>2012-04-10T23:39:54</td>\n",
       "      <td>es</td>\n",
       "      <td>N</td>\n",
       "    </tr>\n",
       "    <tr>\n",
       "      <th>60796</th>\n",
       "      <td>189831045846274049</td>\n",
       "      <td>Albert_Rivera</td>\n",
       "      <td>Esto es lo que hay... Preocupante la flagrante...</td>\n",
       "      <td>2012-04-10T23:43:42</td>\n",
       "      <td>es</td>\n",
       "      <td>N</td>\n",
       "    </tr>\n",
       "    <tr>\n",
       "      <th>60797</th>\n",
       "      <td>189832105927262208</td>\n",
       "      <td>Enric_Hernandez</td>\n",
       "      <td>Rajoy, con el agua al cuello: España se asoma ...</td>\n",
       "      <td>2012-04-10T23:47:55</td>\n",
       "      <td>es</td>\n",
       "      <td>N</td>\n",
       "    </tr>\n",
       "  </tbody>\n",
       "</table>\n",
       "<p>60798 rows × 6 columns</p>\n",
       "</div>"
      ],
      "text/plain": [
       "                  tweetid             user  \\\n",
       "0      142378325086715906      jesusmarana   \n",
       "1      142379080808013825        EvaORegan   \n",
       "2      142379173120442368   LosadaPescador   \n",
       "3      142379815708803072     mgilguerrero   \n",
       "4      142381190123499520   pedroj_ramirez   \n",
       "...                   ...              ...   \n",
       "60793  189828399030747136    sanchez_sonia   \n",
       "60794  189828787582664704    Albert_Rivera   \n",
       "60795  189830088437665792        BelenHoyo   \n",
       "60796  189831045846274049    Albert_Rivera   \n",
       "60797  189832105927262208  Enric_Hernandez   \n",
       "\n",
       "                                                 content                 date  \\\n",
       "0      Portada 'Público', viernes. Fabra al banquillo...  2011-12-02T00:03:32   \n",
       "1      Grande! RT @veronicacalderon \"El periodista es...  2011-12-02T00:06:32   \n",
       "2      Gonzalo Altozano tras la presentación de su li...  2011-12-02T00:06:55   \n",
       "3      Mañana en Gaceta: TVE, la que pagamos tú y yo,...  2011-12-02T00:09:28   \n",
       "4      Qué envidia “@mfcastineiras: Pedro mañana x la...  2011-12-02T00:14:55   \n",
       "...                                                  ...                  ...   \n",
       "60793  @Juandecolmenero @angelrubioti @barbara_ruizp ...  2012-04-10T23:33:11   \n",
       "60794  Escuchan lo que quieren RT @almudenanegro: El ...  2012-04-10T23:34:44   \n",
       "60795  ¿A qué espera el alcalde promarihuana independ...  2012-04-10T23:39:54   \n",
       "60796  Esto es lo que hay... Preocupante la flagrante...  2012-04-10T23:43:42   \n",
       "60797  Rajoy, con el agua al cuello: España se asoma ...  2012-04-10T23:47:55   \n",
       "\n",
       "      lang sentiment  \n",
       "0       es         N  \n",
       "1       es      NONE  \n",
       "2       es         P  \n",
       "3       es         N  \n",
       "4       es      NONE  \n",
       "...    ...       ...  \n",
       "60793   es         P  \n",
       "60794   es      NONE  \n",
       "60795   es         N  \n",
       "60796   es         N  \n",
       "60797   es         N  \n",
       "\n",
       "[60798 rows x 6 columns]"
      ]
     },
     "execution_count": 125,
     "metadata": {},
     "output_type": "execute_result"
    }
   ],
   "source": [
    "df_test"
   ]
  },
  {
   "cell_type": "code",
   "execution_count": 126,
   "metadata": {},
   "outputs": [
    {
     "data": {
      "text/html": [
       "<div>\n",
       "<style scoped>\n",
       "    .dataframe tbody tr th:only-of-type {\n",
       "        vertical-align: middle;\n",
       "    }\n",
       "\n",
       "    .dataframe tbody tr th {\n",
       "        vertical-align: top;\n",
       "    }\n",
       "\n",
       "    .dataframe thead th {\n",
       "        text-align: right;\n",
       "    }\n",
       "</style>\n",
       "<table border=\"1\" class=\"dataframe\">\n",
       "  <thead>\n",
       "    <tr style=\"text-align: right;\">\n",
       "      <th></th>\n",
       "      <th>tweetid</th>\n",
       "      <th>user</th>\n",
       "      <th>content</th>\n",
       "      <th>date</th>\n",
       "      <th>lang</th>\n",
       "    </tr>\n",
       "    <tr>\n",
       "      <th>sentiment</th>\n",
       "      <th></th>\n",
       "      <th></th>\n",
       "      <th></th>\n",
       "      <th></th>\n",
       "      <th></th>\n",
       "    </tr>\n",
       "  </thead>\n",
       "  <tbody>\n",
       "    <tr>\n",
       "      <th>N</th>\n",
       "      <td>15844</td>\n",
       "      <td>15844</td>\n",
       "      <td>15844</td>\n",
       "      <td>15844</td>\n",
       "      <td>15844</td>\n",
       "    </tr>\n",
       "    <tr>\n",
       "      <th>NEU</th>\n",
       "      <td>1305</td>\n",
       "      <td>1305</td>\n",
       "      <td>1305</td>\n",
       "      <td>1305</td>\n",
       "      <td>1305</td>\n",
       "    </tr>\n",
       "    <tr>\n",
       "      <th>NONE</th>\n",
       "      <td>21416</td>\n",
       "      <td>21416</td>\n",
       "      <td>21416</td>\n",
       "      <td>21416</td>\n",
       "      <td>21416</td>\n",
       "    </tr>\n",
       "    <tr>\n",
       "      <th>P</th>\n",
       "      <td>22233</td>\n",
       "      <td>22233</td>\n",
       "      <td>22233</td>\n",
       "      <td>22233</td>\n",
       "      <td>22233</td>\n",
       "    </tr>\n",
       "  </tbody>\n",
       "</table>\n",
       "</div>"
      ],
      "text/plain": [
       "           tweetid   user  content   date   lang\n",
       "sentiment                                       \n",
       "N            15844  15844    15844  15844  15844\n",
       "NEU           1305   1305     1305   1305   1305\n",
       "NONE         21416  21416    21416  21416  21416\n",
       "P            22233  22233    22233  22233  22233"
      ]
     },
     "execution_count": 126,
     "metadata": {},
     "output_type": "execute_result"
    }
   ],
   "source": [
    "df_test.groupby(\"sentiment\").count()"
   ]
  },
  {
   "cell_type": "code",
   "execution_count": 127,
   "metadata": {},
   "outputs": [],
   "source": [
    "corpus = pd.concat([df_train, df_test]).reset_index(drop=True)"
   ]
  },
  {
   "cell_type": "code",
   "execution_count": 128,
   "metadata": {},
   "outputs": [
    {
     "data": {
      "text/html": [
       "<div>\n",
       "<style scoped>\n",
       "    .dataframe tbody tr th:only-of-type {\n",
       "        vertical-align: middle;\n",
       "    }\n",
       "\n",
       "    .dataframe tbody tr th {\n",
       "        vertical-align: top;\n",
       "    }\n",
       "\n",
       "    .dataframe thead th {\n",
       "        text-align: right;\n",
       "    }\n",
       "</style>\n",
       "<table border=\"1\" class=\"dataframe\">\n",
       "  <thead>\n",
       "    <tr style=\"text-align: right;\">\n",
       "      <th></th>\n",
       "      <th>tweetid</th>\n",
       "      <th>user</th>\n",
       "      <th>content</th>\n",
       "      <th>date</th>\n",
       "      <th>lang</th>\n",
       "      <th>sentiment</th>\n",
       "    </tr>\n",
       "  </thead>\n",
       "  <tbody>\n",
       "    <tr>\n",
       "      <th>0</th>\n",
       "      <td>142389495503925248</td>\n",
       "      <td>ccifuentes</td>\n",
       "      <td>Salgo de #VeoTV , que día más largoooooo...</td>\n",
       "      <td>2011-12-02T00:47:55</td>\n",
       "      <td>es</td>\n",
       "      <td>NONE</td>\n",
       "    </tr>\n",
       "    <tr>\n",
       "      <th>1</th>\n",
       "      <td>142389933619945473</td>\n",
       "      <td>CarmendelRiego</td>\n",
       "      <td>@PauladeLasHeras No te libraras de ayudar me/n...</td>\n",
       "      <td>2011-12-02T00:49:40</td>\n",
       "      <td>es</td>\n",
       "      <td>NEU</td>\n",
       "    </tr>\n",
       "    <tr>\n",
       "      <th>2</th>\n",
       "      <td>142391947707940864</td>\n",
       "      <td>CarmendelRiego</td>\n",
       "      <td>@marodriguezb Gracias MAR</td>\n",
       "      <td>2011-12-02T00:57:40</td>\n",
       "      <td>es</td>\n",
       "      <td>P</td>\n",
       "    </tr>\n",
       "    <tr>\n",
       "      <th>3</th>\n",
       "      <td>142416095012339712</td>\n",
       "      <td>mgilguerrero</td>\n",
       "      <td>Off pensando en el regalito Sinde, la que se v...</td>\n",
       "      <td>2011-12-02T02:33:37</td>\n",
       "      <td>es</td>\n",
       "      <td>N</td>\n",
       "    </tr>\n",
       "    <tr>\n",
       "      <th>4</th>\n",
       "      <td>142422495721562112</td>\n",
       "      <td>paurubio</td>\n",
       "      <td>Conozco a alguien q es adicto al drama! Ja ja ...</td>\n",
       "      <td>2011-12-02T02:59:03</td>\n",
       "      <td>es</td>\n",
       "      <td>P</td>\n",
       "    </tr>\n",
       "    <tr>\n",
       "      <th>...</th>\n",
       "      <td>...</td>\n",
       "      <td>...</td>\n",
       "      <td>...</td>\n",
       "      <td>...</td>\n",
       "      <td>...</td>\n",
       "      <td>...</td>\n",
       "    </tr>\n",
       "    <tr>\n",
       "      <th>68012</th>\n",
       "      <td>189828399030747136</td>\n",
       "      <td>sanchez_sonia</td>\n",
       "      <td>@Juandecolmenero @angelrubioti @barbara_ruizp ...</td>\n",
       "      <td>2012-04-10T23:33:11</td>\n",
       "      <td>es</td>\n",
       "      <td>P</td>\n",
       "    </tr>\n",
       "    <tr>\n",
       "      <th>68013</th>\n",
       "      <td>189828787582664704</td>\n",
       "      <td>Albert_Rivera</td>\n",
       "      <td>Escuchan lo que quieren RT @almudenanegro: El ...</td>\n",
       "      <td>2012-04-10T23:34:44</td>\n",
       "      <td>es</td>\n",
       "      <td>NONE</td>\n",
       "    </tr>\n",
       "    <tr>\n",
       "      <th>68014</th>\n",
       "      <td>189830088437665792</td>\n",
       "      <td>BelenHoyo</td>\n",
       "      <td>¿A qué espera el alcalde promarihuana independ...</td>\n",
       "      <td>2012-04-10T23:39:54</td>\n",
       "      <td>es</td>\n",
       "      <td>N</td>\n",
       "    </tr>\n",
       "    <tr>\n",
       "      <th>68015</th>\n",
       "      <td>189831045846274049</td>\n",
       "      <td>Albert_Rivera</td>\n",
       "      <td>Esto es lo que hay... Preocupante la flagrante...</td>\n",
       "      <td>2012-04-10T23:43:42</td>\n",
       "      <td>es</td>\n",
       "      <td>N</td>\n",
       "    </tr>\n",
       "    <tr>\n",
       "      <th>68016</th>\n",
       "      <td>189832105927262208</td>\n",
       "      <td>Enric_Hernandez</td>\n",
       "      <td>Rajoy, con el agua al cuello: España se asoma ...</td>\n",
       "      <td>2012-04-10T23:47:55</td>\n",
       "      <td>es</td>\n",
       "      <td>N</td>\n",
       "    </tr>\n",
       "  </tbody>\n",
       "</table>\n",
       "<p>68017 rows × 6 columns</p>\n",
       "</div>"
      ],
      "text/plain": [
       "                  tweetid             user  \\\n",
       "0      142389495503925248       ccifuentes   \n",
       "1      142389933619945473   CarmendelRiego   \n",
       "2      142391947707940864   CarmendelRiego   \n",
       "3      142416095012339712     mgilguerrero   \n",
       "4      142422495721562112         paurubio   \n",
       "...                   ...              ...   \n",
       "68012  189828399030747136    sanchez_sonia   \n",
       "68013  189828787582664704    Albert_Rivera   \n",
       "68014  189830088437665792        BelenHoyo   \n",
       "68015  189831045846274049    Albert_Rivera   \n",
       "68016  189832105927262208  Enric_Hernandez   \n",
       "\n",
       "                                                 content                 date  \\\n",
       "0            Salgo de #VeoTV , que día más largoooooo...  2011-12-02T00:47:55   \n",
       "1      @PauladeLasHeras No te libraras de ayudar me/n...  2011-12-02T00:49:40   \n",
       "2                              @marodriguezb Gracias MAR  2011-12-02T00:57:40   \n",
       "3      Off pensando en el regalito Sinde, la que se v...  2011-12-02T02:33:37   \n",
       "4      Conozco a alguien q es adicto al drama! Ja ja ...  2011-12-02T02:59:03   \n",
       "...                                                  ...                  ...   \n",
       "68012  @Juandecolmenero @angelrubioti @barbara_ruizp ...  2012-04-10T23:33:11   \n",
       "68013  Escuchan lo que quieren RT @almudenanegro: El ...  2012-04-10T23:34:44   \n",
       "68014  ¿A qué espera el alcalde promarihuana independ...  2012-04-10T23:39:54   \n",
       "68015  Esto es lo que hay... Preocupante la flagrante...  2012-04-10T23:43:42   \n",
       "68016  Rajoy, con el agua al cuello: España se asoma ...  2012-04-10T23:47:55   \n",
       "\n",
       "      lang sentiment  \n",
       "0       es      NONE  \n",
       "1       es       NEU  \n",
       "2       es         P  \n",
       "3       es         N  \n",
       "4       es         P  \n",
       "...    ...       ...  \n",
       "68012   es         P  \n",
       "68013   es      NONE  \n",
       "68014   es         N  \n",
       "68015   es         N  \n",
       "68016   es         N  \n",
       "\n",
       "[68017 rows x 6 columns]"
      ]
     },
     "execution_count": 128,
     "metadata": {},
     "output_type": "execute_result"
    }
   ],
   "source": [
    "corpus"
   ]
  },
  {
   "cell_type": "code",
   "execution_count": 129,
   "metadata": {},
   "outputs": [],
   "source": [
    "corpus_filtrado = corpus[(corpus[\"sentiment\"] == \"P\") | (corpus[\"sentiment\"] == \"N\")].reset_index(drop=True)"
   ]
  },
  {
   "cell_type": "code",
   "execution_count": 130,
   "metadata": {},
   "outputs": [
    {
     "data": {
      "text/html": [
       "<div>\n",
       "<style scoped>\n",
       "    .dataframe tbody tr th:only-of-type {\n",
       "        vertical-align: middle;\n",
       "    }\n",
       "\n",
       "    .dataframe tbody tr th {\n",
       "        vertical-align: top;\n",
       "    }\n",
       "\n",
       "    .dataframe thead th {\n",
       "        text-align: right;\n",
       "    }\n",
       "</style>\n",
       "<table border=\"1\" class=\"dataframe\">\n",
       "  <thead>\n",
       "    <tr style=\"text-align: right;\">\n",
       "      <th></th>\n",
       "      <th>tweetid</th>\n",
       "      <th>user</th>\n",
       "      <th>content</th>\n",
       "      <th>date</th>\n",
       "      <th>lang</th>\n",
       "    </tr>\n",
       "    <tr>\n",
       "      <th>sentiment</th>\n",
       "      <th></th>\n",
       "      <th></th>\n",
       "      <th></th>\n",
       "      <th></th>\n",
       "      <th></th>\n",
       "    </tr>\n",
       "  </thead>\n",
       "  <tbody>\n",
       "    <tr>\n",
       "      <th>N</th>\n",
       "      <td>18026</td>\n",
       "      <td>18026</td>\n",
       "      <td>18026</td>\n",
       "      <td>18026</td>\n",
       "      <td>18026</td>\n",
       "    </tr>\n",
       "    <tr>\n",
       "      <th>P</th>\n",
       "      <td>25117</td>\n",
       "      <td>25117</td>\n",
       "      <td>25117</td>\n",
       "      <td>25117</td>\n",
       "      <td>25117</td>\n",
       "    </tr>\n",
       "  </tbody>\n",
       "</table>\n",
       "</div>"
      ],
      "text/plain": [
       "           tweetid   user  content   date   lang\n",
       "sentiment                                       \n",
       "N            18026  18026    18026  18026  18026\n",
       "P            25117  25117    25117  25117  25117"
      ]
     },
     "execution_count": 130,
     "metadata": {},
     "output_type": "execute_result"
    }
   ],
   "source": [
    "corpus_filtrado.groupby(\"sentiment\").count()"
   ]
  },
  {
   "cell_type": "code",
   "execution_count": 131,
   "metadata": {},
   "outputs": [],
   "source": [
    "pos_data = corpus_filtrado[corpus_filtrado['sentiment'] == 'P']\n",
    "neg_data = corpus_filtrado[corpus_filtrado['sentiment'] == 'N']"
   ]
  },
  {
   "cell_type": "code",
   "execution_count": 132,
   "metadata": {},
   "outputs": [],
   "source": [
    "pos_sample = pos_data.sample(frac=0.2, random_state=42)\n",
    "neg_sample = neg_data.sample(frac=0.2, random_state=42)"
   ]
  },
  {
   "cell_type": "code",
   "execution_count": 133,
   "metadata": {},
   "outputs": [],
   "source": [
    "sample_size = min(len(pos_sample), len(neg_sample))\n",
    "pos_sample = pos_sample.sample(n=sample_size, random_state=2024)\n",
    "neg_sample = neg_sample.sample(n=sample_size, random_state=2024)"
   ]
  },
  {
   "cell_type": "code",
   "execution_count": 134,
   "metadata": {},
   "outputs": [
    {
     "data": {
      "text/html": [
       "<div>\n",
       "<style scoped>\n",
       "    .dataframe tbody tr th:only-of-type {\n",
       "        vertical-align: middle;\n",
       "    }\n",
       "\n",
       "    .dataframe tbody tr th {\n",
       "        vertical-align: top;\n",
       "    }\n",
       "\n",
       "    .dataframe thead th {\n",
       "        text-align: right;\n",
       "    }\n",
       "</style>\n",
       "<table border=\"1\" class=\"dataframe\">\n",
       "  <thead>\n",
       "    <tr style=\"text-align: right;\">\n",
       "      <th></th>\n",
       "      <th>tweetid</th>\n",
       "      <th>user</th>\n",
       "      <th>content</th>\n",
       "      <th>date</th>\n",
       "      <th>lang</th>\n",
       "      <th>sentiment</th>\n",
       "    </tr>\n",
       "  </thead>\n",
       "  <tbody>\n",
       "    <tr>\n",
       "      <th>17714</th>\n",
       "      <td>158509628945203201</td>\n",
       "      <td>mariviromero</td>\n",
       "      <td>Comienza Soraya su intervención comentando que...</td>\n",
       "      <td>2012-01-15T12:23:35</td>\n",
       "      <td>es</td>\n",
       "      <td>P</td>\n",
       "    </tr>\n",
       "    <tr>\n",
       "      <th>21146</th>\n",
       "      <td>162573463356313601</td>\n",
       "      <td>pedroj_ramirez</td>\n",
       "      <td>Qué buen título para esta crónica pero ¿será o...</td>\n",
       "      <td>2012-01-26T17:31:48</td>\n",
       "      <td>es</td>\n",
       "      <td>P</td>\n",
       "    </tr>\n",
       "    <tr>\n",
       "      <th>15055</th>\n",
       "      <td>155225961179254784</td>\n",
       "      <td>DiegoMazon78</td>\n",
       "      <td>Me voy a la #pascuamilitar. Si,me he fumado la...</td>\n",
       "      <td>2012-01-06T10:55:27</td>\n",
       "      <td>es</td>\n",
       "      <td>P</td>\n",
       "    </tr>\n",
       "    <tr>\n",
       "      <th>6003</th>\n",
       "      <td>143739090305695744</td>\n",
       "      <td>JAMonago</td>\n",
       "      <td>buena “@aariasdominguez: Estoy convencido: mir...</td>\n",
       "      <td>2011-12-05T18:10:44</td>\n",
       "      <td>es</td>\n",
       "      <td>P</td>\n",
       "    </tr>\n",
       "    <tr>\n",
       "      <th>14399</th>\n",
       "      <td>154327548464087040</td>\n",
       "      <td>pedroj_ramirez</td>\n",
       "      <td>Lina es maravillosa “@martalmela: sabes q mi m...</td>\n",
       "      <td>2012-01-03T23:25:29</td>\n",
       "      <td>es</td>\n",
       "      <td>P</td>\n",
       "    </tr>\n",
       "  </tbody>\n",
       "</table>\n",
       "</div>"
      ],
      "text/plain": [
       "                  tweetid            user  \\\n",
       "17714  158509628945203201    mariviromero   \n",
       "21146  162573463356313601  pedroj_ramirez   \n",
       "15055  155225961179254784    DiegoMazon78   \n",
       "6003   143739090305695744        JAMonago   \n",
       "14399  154327548464087040  pedroj_ramirez   \n",
       "\n",
       "                                                 content                 date  \\\n",
       "17714  Comienza Soraya su intervención comentando que...  2012-01-15T12:23:35   \n",
       "21146  Qué buen título para esta crónica pero ¿será o...  2012-01-26T17:31:48   \n",
       "15055  Me voy a la #pascuamilitar. Si,me he fumado la...  2012-01-06T10:55:27   \n",
       "6003   buena “@aariasdominguez: Estoy convencido: mir...  2011-12-05T18:10:44   \n",
       "14399  Lina es maravillosa “@martalmela: sabes q mi m...  2012-01-03T23:25:29   \n",
       "\n",
       "      lang sentiment  \n",
       "17714   es         P  \n",
       "21146   es         P  \n",
       "15055   es         P  \n",
       "6003    es         P  \n",
       "14399   es         P  "
      ]
     },
     "execution_count": 134,
     "metadata": {},
     "output_type": "execute_result"
    }
   ],
   "source": [
    "pos_sample.head()"
   ]
  },
  {
   "cell_type": "code",
   "execution_count": 135,
   "metadata": {},
   "outputs": [
    {
     "data": {
      "text/html": [
       "<div>\n",
       "<style scoped>\n",
       "    .dataframe tbody tr th:only-of-type {\n",
       "        vertical-align: middle;\n",
       "    }\n",
       "\n",
       "    .dataframe tbody tr th {\n",
       "        vertical-align: top;\n",
       "    }\n",
       "\n",
       "    .dataframe thead th {\n",
       "        text-align: right;\n",
       "    }\n",
       "</style>\n",
       "<table border=\"1\" class=\"dataframe\">\n",
       "  <thead>\n",
       "    <tr style=\"text-align: right;\">\n",
       "      <th></th>\n",
       "      <th>tweetid</th>\n",
       "      <th>user</th>\n",
       "      <th>content</th>\n",
       "      <th>date</th>\n",
       "      <th>lang</th>\n",
       "      <th>sentiment</th>\n",
       "    </tr>\n",
       "  </thead>\n",
       "  <tbody>\n",
       "    <tr>\n",
       "      <th>3015</th>\n",
       "      <td>170626108616749056</td>\n",
       "      <td>santiagocervera</td>\n",
       "      <td>No me he debido expresar bien en @hora25. Inte...</td>\n",
       "      <td>2012-02-17T22:50:09</td>\n",
       "      <td>es</td>\n",
       "      <td>N</td>\n",
       "    </tr>\n",
       "    <tr>\n",
       "      <th>42595</th>\n",
       "      <td>189266695049854977</td>\n",
       "      <td>iescolar</td>\n",
       "      <td>En el blog: La sanidad pasa de intocable a ins...</td>\n",
       "      <td>2012-04-09T10:21:11</td>\n",
       "      <td>es</td>\n",
       "      <td>N</td>\n",
       "    </tr>\n",
       "    <tr>\n",
       "      <th>35181</th>\n",
       "      <td>179485098951966721</td>\n",
       "      <td>PilarGGranja</td>\n",
       "      <td>El ministro @jmsoria habla de Industria : \"el ...</td>\n",
       "      <td>2012-03-13T09:32:36</td>\n",
       "      <td>es</td>\n",
       "      <td>N</td>\n",
       "    </tr>\n",
       "    <tr>\n",
       "      <th>1189</th>\n",
       "      <td>154194246931464192</td>\n",
       "      <td>pedroj_ramirez</td>\n",
       "      <td>Algo hemos avanzado “@JJCarmorenilla: ¿Puede v...</td>\n",
       "      <td>2012-01-03T14:35:47</td>\n",
       "      <td>es</td>\n",
       "      <td>N</td>\n",
       "    </tr>\n",
       "    <tr>\n",
       "      <th>32401</th>\n",
       "      <td>175662890941038592</td>\n",
       "      <td>estherpalomera</td>\n",
       "      <td>En el congreso del @psm. Viejos recuerdos, dam...</td>\n",
       "      <td>2012-03-02T20:24:31</td>\n",
       "      <td>es</td>\n",
       "      <td>N</td>\n",
       "    </tr>\n",
       "  </tbody>\n",
       "</table>\n",
       "</div>"
      ],
      "text/plain": [
       "                  tweetid             user  \\\n",
       "3015   170626108616749056  santiagocervera   \n",
       "42595  189266695049854977         iescolar   \n",
       "35181  179485098951966721     PilarGGranja   \n",
       "1189   154194246931464192   pedroj_ramirez   \n",
       "32401  175662890941038592   estherpalomera   \n",
       "\n",
       "                                                 content                 date  \\\n",
       "3015   No me he debido expresar bien en @hora25. Inte...  2012-02-17T22:50:09   \n",
       "42595  En el blog: La sanidad pasa de intocable a ins...  2012-04-09T10:21:11   \n",
       "35181  El ministro @jmsoria habla de Industria : \"el ...  2012-03-13T09:32:36   \n",
       "1189   Algo hemos avanzado “@JJCarmorenilla: ¿Puede v...  2012-01-03T14:35:47   \n",
       "32401  En el congreso del @psm. Viejos recuerdos, dam...  2012-03-02T20:24:31   \n",
       "\n",
       "      lang sentiment  \n",
       "3015    es         N  \n",
       "42595   es         N  \n",
       "35181   es         N  \n",
       "1189    es         N  \n",
       "32401   es         N  "
      ]
     },
     "execution_count": 135,
     "metadata": {},
     "output_type": "execute_result"
    }
   ],
   "source": [
    "neg_sample.head()"
   ]
  },
  {
   "cell_type": "code",
   "execution_count": 136,
   "metadata": {},
   "outputs": [],
   "source": [
    "def save_to_txt(data, folder):\n",
    "    for index, row in data.iterrows():\n",
    "        filename = f\"{folder}/{index}.txt\"\n",
    "        with open(filename, 'w', encoding='utf-8') as file:\n",
    "            file.write(row['content'])\n",
    "\n",
    "save_to_txt(pos_sample, 'pos')\n",
    "save_to_txt(neg_sample, 'neg')"
   ]
  },
  {
   "cell_type": "code",
   "execution_count": 137,
   "metadata": {},
   "outputs": [
    {
     "name": "stdout",
     "output_type": "stream",
     "text": [
      "Se generaron 3605 archivos en 'pos' y 3605 archivos en 'neg'.\n"
     ]
    }
   ],
   "source": [
    "print(f\"Se generaron {len(pos_sample)} archivos en 'pos' y {len(neg_sample)} archivos en 'neg'.\")"
   ]
  },
  {
   "cell_type": "code",
   "execution_count": 138,
   "metadata": {},
   "outputs": [],
   "source": [
    "def count_words_in_file(filepath):\n",
    "    with open(filepath, 'r', encoding='utf-8') as file:\n",
    "        content = file.read()\n",
    "        return len(content.split())\n",
    "\n",
    "def get_word_counts(folder):\n",
    "    filepaths = [os.path.join(folder, filename) for filename in os.listdir(folder)]\n",
    "    return [count_words_in_file(filepath) for filepath in filepaths]"
   ]
  },
  {
   "cell_type": "code",
   "execution_count": 139,
   "metadata": {},
   "outputs": [],
   "source": [
    "def calculate_metrics(word_counts):\n",
    "    metrics = {\n",
    "        \"Mean\": np.mean(word_counts),\n",
    "        \"Std\": np.std(word_counts),\n",
    "        \"Min\": np.min(word_counts),\n",
    "        \"Max\": np.max(word_counts),\n",
    "        \"25%\": np.percentile(word_counts, 25),\n",
    "        \"50%\": np.percentile(word_counts, 50),\n",
    "        \"75%\": np.percentile(word_counts, 75),\n",
    "        \"Sum\": np.sum(word_counts)\n",
    "    }\n",
    "    return metrics"
   ]
  },
  {
   "cell_type": "code",
   "execution_count": 140,
   "metadata": {},
   "outputs": [],
   "source": [
    "pos_word_counts = get_word_counts('pos')\n",
    "neg_word_counts = get_word_counts('neg')\n",
    "all_word_counts = pos_word_counts + neg_word_counts"
   ]
  },
  {
   "cell_type": "code",
   "execution_count": 141,
   "metadata": {},
   "outputs": [],
   "source": [
    "pos_metrics = calculate_metrics(pos_word_counts)\n",
    "neg_metrics = calculate_metrics(neg_word_counts)\n",
    "combined_metrics = calculate_metrics(all_word_counts)"
   ]
  },
  {
   "cell_type": "code",
   "execution_count": 142,
   "metadata": {},
   "outputs": [],
   "source": [
    "metrics_df = pd.DataFrame([pos_metrics, neg_metrics, combined_metrics], index=[\"pos\", \"neg\", \"combined\"])"
   ]
  },
  {
   "cell_type": "code",
   "execution_count": 143,
   "metadata": {},
   "outputs": [
    {
     "data": {
      "text/html": [
       "<div>\n",
       "<style scoped>\n",
       "    .dataframe tbody tr th:only-of-type {\n",
       "        vertical-align: middle;\n",
       "    }\n",
       "\n",
       "    .dataframe tbody tr th {\n",
       "        vertical-align: top;\n",
       "    }\n",
       "\n",
       "    .dataframe thead th {\n",
       "        text-align: right;\n",
       "    }\n",
       "</style>\n",
       "<table border=\"1\" class=\"dataframe\">\n",
       "  <thead>\n",
       "    <tr style=\"text-align: right;\">\n",
       "      <th></th>\n",
       "      <th>Mean</th>\n",
       "      <th>Std</th>\n",
       "      <th>Min</th>\n",
       "      <th>Max</th>\n",
       "      <th>25%</th>\n",
       "      <th>50%</th>\n",
       "      <th>75%</th>\n",
       "      <th>Sum</th>\n",
       "    </tr>\n",
       "  </thead>\n",
       "  <tbody>\n",
       "    <tr>\n",
       "      <th>pos</th>\n",
       "      <td>16.527046</td>\n",
       "      <td>5.718661</td>\n",
       "      <td>1</td>\n",
       "      <td>32</td>\n",
       "      <td>13.0</td>\n",
       "      <td>17.0</td>\n",
       "      <td>21.0</td>\n",
       "      <td>59580</td>\n",
       "    </tr>\n",
       "    <tr>\n",
       "      <th>neg</th>\n",
       "      <td>19.027184</td>\n",
       "      <td>4.900829</td>\n",
       "      <td>2</td>\n",
       "      <td>31</td>\n",
       "      <td>16.0</td>\n",
       "      <td>20.0</td>\n",
       "      <td>23.0</td>\n",
       "      <td>68593</td>\n",
       "    </tr>\n",
       "    <tr>\n",
       "      <th>combined</th>\n",
       "      <td>17.777115</td>\n",
       "      <td>5.470217</td>\n",
       "      <td>1</td>\n",
       "      <td>32</td>\n",
       "      <td>14.0</td>\n",
       "      <td>18.0</td>\n",
       "      <td>22.0</td>\n",
       "      <td>128173</td>\n",
       "    </tr>\n",
       "  </tbody>\n",
       "</table>\n",
       "</div>"
      ],
      "text/plain": [
       "               Mean       Std  Min  Max   25%   50%   75%     Sum\n",
       "pos       16.527046  5.718661    1   32  13.0  17.0  21.0   59580\n",
       "neg       19.027184  4.900829    2   31  16.0  20.0  23.0   68593\n",
       "combined  17.777115  5.470217    1   32  14.0  18.0  22.0  128173"
      ]
     },
     "execution_count": 143,
     "metadata": {},
     "output_type": "execute_result"
    }
   ],
   "source": [
    "metrics_df"
   ]
  },
  {
   "cell_type": "code",
   "execution_count": 144,
   "metadata": {},
   "outputs": [
    {
     "name": "stdout",
     "output_type": "stream",
     "text": [
      "Todos los archivos en las carpetas 'pos' y 'neg' han sido procesados y limpiados.\n"
     ]
    }
   ],
   "source": [
    "def clean_text(text):\n",
    "    text = text.lower()\n",
    "\n",
    "    text = re.sub(r'[áéíóú]', lambda x: {'á': 'a', 'é': 'e', 'í': 'i', 'ó': 'o', 'ú': 'u'}[x.group()], text)\n",
    "\n",
    "    text = re.sub(r'\\d+', '', text)\n",
    "\n",
    "    text = re.sub(r'http\\S+|www\\.\\S+', '', text)\n",
    "\n",
    "    text = text.replace('\\n', ' ').replace('\\r', ' ')\n",
    "\n",
    "    text = re.sub(r'<.*?>', '', text)\n",
    "\n",
    "    text = re.sub(r'[^\\w\\s]', '', text)\n",
    "\n",
    "    return text\n",
    "\n",
    "def process_folder(folder):\n",
    "    filepaths = [os.path.join(folder, filename) for filename in os.listdir(folder) if filename.endswith('.txt')]\n",
    "    for filepath in filepaths:\n",
    "        with open(filepath, 'r', encoding='utf-8') as file:\n",
    "            original_text = file.read()\n",
    "        cleaned_text = clean_text(original_text)\n",
    "        with open(filepath, 'w', encoding='utf-8') as file:\n",
    "            file.write(cleaned_text)\n",
    "\n",
    "process_folder('pos')\n",
    "process_folder('neg')\n",
    "\n",
    "print(\"Todos los archivos en las carpetas 'pos' y 'neg' han sido procesados y limpiados.\")"
   ]
  },
  {
   "cell_type": "code",
   "execution_count": 145,
   "metadata": {},
   "outputs": [],
   "source": [
    "def leer_y_tokenizar(carpeta):\n",
    "    textos_tokenizados = {}\n",
    "    for archivo in os.listdir(carpeta):\n",
    "        if archivo.endswith('.txt'):\n",
    "            ruta_archivo = os.path.join(carpeta, archivo)\n",
    "            with open(ruta_archivo, 'r', encoding='utf-8') as f:\n",
    "                texto = f.read()\n",
    "                # Tokenizar el texto\n",
    "                tokens = word_tokenize(texto)\n",
    "                textos_tokenizados[archivo] = tokens\n",
    "    return textos_tokenizados"
   ]
  },
  {
   "cell_type": "code",
   "execution_count": 146,
   "metadata": {},
   "outputs": [],
   "source": [
    "def cargar_textos(carpeta):\n",
    "    textos = []\n",
    "    for archivo in os.listdir(carpeta):\n",
    "        if archivo.endswith('.txt'):  \n",
    "            ruta_archivo = os.path.join(carpeta, archivo)\n",
    "            with open(ruta_archivo, 'r', encoding='utf-8') as f:\n",
    "                texto = f.read()\n",
    "                textos.append(texto)\n",
    "    return textos"
   ]
  },
  {
   "cell_type": "code",
   "execution_count": 147,
   "metadata": {},
   "outputs": [],
   "source": [
    "carpeta_pos = 'pos'\n",
    "carpeta_neg = 'neg'\n",
    "\n",
    "textos_pos = cargar_textos(carpeta_pos)\n",
    "textos_neg = cargar_textos(carpeta_neg)\n",
    "\n",
    "corpus = textos_pos + textos_neg"
   ]
  },
  {
   "cell_type": "code",
   "execution_count": 148,
   "metadata": {},
   "outputs": [],
   "source": [
    "y = np.array([1] * len(textos_pos) + [0] * len(textos_neg))"
   ]
  },
  {
   "cell_type": "code",
   "execution_count": 149,
   "metadata": {},
   "outputs": [
    {
     "name": "stdout",
     "output_type": "stream",
     "text": [
      "Características del BoW (vocabulario):\n",
      "['_aliflor_' '_aliflor_ ha' '_avt_' ... 'öffentlichen dienstes'\n",
      " 'お元気ですかmuchos' 'お元気ですかmuchos besos']\n",
      "\n",
      "Matriz de características BoW (Term Occurrence - TO):\n",
      "[[0 0 0 ... 0 0 0]\n",
      " [0 0 0 ... 0 0 0]\n",
      " [0 0 0 ... 0 0 0]\n",
      " ...\n",
      " [0 0 0 ... 0 0 0]\n",
      " [0 0 0 ... 0 0 0]\n",
      " [0 0 0 ... 0 0 0]]\n",
      "\n",
      "Matriz de características ponderada por TF-IDF:\n",
      "[[0. 0. 0. ... 0. 0. 0.]\n",
      " [0. 0. 0. ... 0. 0. 0.]\n",
      " [0. 0. 0. ... 0. 0. 0.]\n",
      " ...\n",
      " [0. 0. 0. ... 0. 0. 0.]\n",
      " [0. 0. 0. ... 0. 0. 0.]\n",
      " [0. 0. 0. ... 0. 0. 0.]]\n"
     ]
    }
   ],
   "source": [
    "vectorizer = CountVectorizer(ngram_range=(1, 2))  \n",
    "X_to = vectorizer.fit_transform(corpus) \n",
    "\n",
    "print(\"Características del BoW (vocabulario):\")\n",
    "print(vectorizer.get_feature_names_out())\n",
    "\n",
    "print(\"\\nMatriz de características BoW (Term Occurrence - TO):\")\n",
    "print(X_to.toarray())\n",
    "\n",
    "tfidf_transformer = TfidfTransformer()\n",
    "X_tfidf = tfidf_transformer.fit_transform(X_to)\n",
    "\n",
    "print(\"\\nMatriz de características ponderada por TF-IDF:\")\n",
    "print(X_tfidf.toarray())"
   ]
  },
  {
   "cell_type": "code",
   "execution_count": 150,
   "metadata": {},
   "outputs": [
    {
     "name": "stdout",
     "output_type": "stream",
     "text": [
      "\n",
      "Vocabulario tras eliminación de stopwords y filtrado por frecuencia:\n",
      "['_rubalcaba_' 'aalvarezalvarez' 'aarbeloa' ... 'zonas' 'zougam' 'zp']\n",
      "\n",
      "Matriz de características BoW con preprocesamiento (Term Occurrence - TO):\n",
      "[[0 0 0 ... 0 0 0]\n",
      " [0 0 0 ... 0 0 0]\n",
      " [0 0 0 ... 0 0 0]\n",
      " ...\n",
      " [0 0 0 ... 0 0 0]\n",
      " [0 0 0 ... 0 0 0]\n",
      " [0 0 0 ... 0 0 0]]\n",
      "\n",
      "Matriz de características con preprocesamiento ponderada por TF-IDF:\n",
      "[[0. 0. 0. ... 0. 0. 0.]\n",
      " [0. 0. 0. ... 0. 0. 0.]\n",
      " [0. 0. 0. ... 0. 0. 0.]\n",
      " ...\n",
      " [0. 0. 0. ... 0. 0. 0.]\n",
      " [0. 0. 0. ... 0. 0. 0.]\n",
      " [0. 0. 0. ... 0. 0. 0.]]\n"
     ]
    }
   ],
   "source": [
    "vectorizer_preprocessed = CountVectorizer(\n",
    "    ngram_range=(1, 2),        \n",
    "    stop_words=stopwords_es_list,   \n",
    "    min_df=3                   \n",
    ")\n",
    "X_stopwords = vectorizer_preprocessed.fit_transform(corpus)\n",
    "\n",
    "X_to_stopwords = X_stopwords\n",
    "\n",
    "print(\"\\nVocabulario tras eliminación de stopwords y filtrado por frecuencia:\")\n",
    "print(vectorizer_preprocessed.get_feature_names_out())\n",
    "\n",
    "print(\"\\nMatriz de características BoW con preprocesamiento (Term Occurrence - TO):\")\n",
    "print(X_to_stopwords.toarray())\n",
    "\n",
    "tfidf_transformer = TfidfTransformer()\n",
    "X_tfidf_stopwords = tfidf_transformer.fit_transform(X_to_stopwords)\n",
    "\n",
    "print(\"\\nMatriz de características con preprocesamiento ponderada por TF-IDF:\")\n",
    "print(X_tfidf_stopwords.toarray())"
   ]
  },
  {
   "cell_type": "code",
   "execution_count": 151,
   "metadata": {},
   "outputs": [],
   "source": [
    "def aplicar_stemming(texto):\n",
    "    tokens = texto.split()  \n",
    "    tokens_stemmed = [stemmer.stem(token) for token in tokens]  \n",
    "    return ' '.join(tokens_stemmed) "
   ]
  },
  {
   "cell_type": "code",
   "execution_count": 152,
   "metadata": {},
   "outputs": [
    {
     "name": "stdout",
     "output_type": "stream",
     "text": [
      "\n",
      "Vocabulario del BoW con Stemming:\n",
      "['_aliflor_' '_aliflor_ ha' '_avt_' ... 'öffentlich dienst' 'お元気ですかmuch'\n",
      " 'お元気ですかmuch bes']\n",
      "\n",
      "Matriz de características BoW con Stemming (Term Occurrence - TO):\n",
      "[[0 0 0 ... 0 0 0]\n",
      " [0 0 0 ... 0 0 0]\n",
      " [0 0 0 ... 0 0 0]\n",
      " ...\n",
      " [0 0 0 ... 0 0 0]\n",
      " [0 0 0 ... 0 0 0]\n",
      " [0 0 0 ... 0 0 0]]\n",
      "\n",
      "Matriz de características con Stemming ponderada por TF-IDF:\n",
      "[[0. 0. 0. ... 0. 0. 0.]\n",
      " [0. 0. 0. ... 0. 0. 0.]\n",
      " [0. 0. 0. ... 0. 0. 0.]\n",
      " ...\n",
      " [0. 0. 0. ... 0. 0. 0.]\n",
      " [0. 0. 0. ... 0. 0. 0.]\n",
      " [0. 0. 0. ... 0. 0. 0.]]\n"
     ]
    }
   ],
   "source": [
    "corpus_stemmed = [aplicar_stemming(texto) for texto in corpus]\n",
    "\n",
    "vectorizer_stemming = CountVectorizer(ngram_range=(1, 2))  \n",
    "X_stemming = vectorizer_stemming.fit_transform(corpus_stemmed)\n",
    "\n",
    "X_to_stemming = X_stemming\n",
    "\n",
    "print(\"\\nVocabulario del BoW con Stemming:\")\n",
    "print(vectorizer_stemming.get_feature_names_out())\n",
    "\n",
    "print(\"\\nMatriz de características BoW con Stemming (Term Occurrence - TO):\")\n",
    "print(X_to_stemming.toarray())\n",
    "\n",
    "tfidf_transformer = TfidfTransformer()\n",
    "X_tfidf_stemming = tfidf_transformer.fit_transform(X_to_stemming)\n",
    "\n",
    "print(\"\\nMatriz de características con Stemming ponderada por TF-IDF:\")\n",
    "print(X_tfidf_stemming.toarray())"
   ]
  },
  {
   "cell_type": "code",
   "execution_count": 153,
   "metadata": {},
   "outputs": [],
   "source": [
    "def preprocesar_texto(texto):\n",
    "    tokens = texto.split()\n",
    "    tokens_stemmed = [stemmer.stem(token) for token in tokens if token not in stopwords_es]\n",
    "    return ' '.join(tokens_stemmed)"
   ]
  },
  {
   "cell_type": "code",
   "execution_count": 154,
   "metadata": {},
   "outputs": [
    {
     "name": "stdout",
     "output_type": "stream",
     "text": [
      "\n",
      "Vocabulario del BoW con Stemming + Stopwords + Frecuencia:\n",
      "['_rubalcaba_' 'aalvarezalvarez' 'aarbelo' ... 'zon recre' 'zougam' 'zp']\n",
      "\n",
      "Matriz de características BoW con Stemming + Stopwords + Frecuencia (Term Occurrence - TO):\n",
      "[[0 0 0 ... 0 0 0]\n",
      " [0 0 0 ... 0 0 0]\n",
      " [0 0 0 ... 0 0 0]\n",
      " ...\n",
      " [0 0 0 ... 0 0 0]\n",
      " [0 0 0 ... 0 0 0]\n",
      " [0 0 0 ... 0 0 0]]\n",
      "\n",
      "Matriz de características con Stemming + Stopwords + Frecuencia ponderada por TF-IDF:\n",
      "[[0. 0. 0. ... 0. 0. 0.]\n",
      " [0. 0. 0. ... 0. 0. 0.]\n",
      " [0. 0. 0. ... 0. 0. 0.]\n",
      " ...\n",
      " [0. 0. 0. ... 0. 0. 0.]\n",
      " [0. 0. 0. ... 0. 0. 0.]\n",
      " [0. 0. 0. ... 0. 0. 0.]]\n"
     ]
    }
   ],
   "source": [
    "corpus_preprocessed = [preprocesar_texto(texto) for texto in corpus]\n",
    "\n",
    "vectorizer_preprocessed = CountVectorizer(\n",
    "    ngram_range=(1, 2),  \n",
    "    min_df=3             \n",
    ")\n",
    "X_preprocessed = vectorizer_preprocessed.fit_transform(corpus_preprocessed)\n",
    "\n",
    "X_to_preprocessed = X_preprocessed\n",
    "\n",
    "print(\"\\nVocabulario del BoW con Stemming + Stopwords + Frecuencia:\")\n",
    "print(vectorizer_preprocessed.get_feature_names_out())\n",
    "\n",
    "print(\"\\nMatriz de características BoW con Stemming + Stopwords + Frecuencia (Term Occurrence - TO):\")\n",
    "print(X_to_preprocessed.toarray())\n",
    "\n",
    "tfidf_transformer = TfidfTransformer()\n",
    "X_tfidf_preprocessed = tfidf_transformer.fit_transform(X_to_preprocessed)\n",
    "\n",
    "print(\"\\nMatriz de características con Stemming + Stopwords + Frecuencia ponderada por TF-IDF:\")\n",
    "print(X_tfidf_preprocessed.toarray())"
   ]
  },
  {
   "cell_type": "markdown",
   "metadata": {},
   "source": [
    "## Sin preprocesamiento"
   ]
  },
  {
   "cell_type": "code",
   "execution_count": 155,
   "metadata": {},
   "outputs": [],
   "source": [
    "X_train_to, X_test_to, y_train, y_test = train_test_split(X_to, y, test_size=0.2, random_state=42)\n",
    "\n",
    "X_train_tfidf, X_test_tfidf, _, _ = train_test_split(X_tfidf, y, test_size=0.2, random_state=42)"
   ]
  },
  {
   "cell_type": "markdown",
   "metadata": {},
   "source": [
    "#### Regresión Logística"
   ]
  },
  {
   "cell_type": "code",
   "execution_count": 156,
   "metadata": {},
   "outputs": [
    {
     "name": "stdout",
     "output_type": "stream",
     "text": [
      "\n",
      "Resultados de Validación Cruzada (10-Fold) con Term Occurrence (TO):\n",
      "F1 ponderado por Fold: [0.8353256  0.82479875 0.8387081  0.83707664 0.82842494 0.85258267\n",
      " 0.83864016 0.82668249 0.84709321 0.85409628]\n",
      "Promedio de F1 ponderado: 0.8383428843944147\n",
      "Desviación Estándar de F1 ponderado: 0.009778611380521133\n",
      "\n",
      "Resultados finales con el conjunto de prueba:\n",
      "F1 ponderado en el conjunto de prueba: 0.8606524561866035\n",
      "Reporte de Clasificación:\n",
      "               precision    recall  f1-score   support\n",
      "\n",
      "           0       0.85      0.87      0.86       694\n",
      "           1       0.87      0.85      0.86       748\n",
      "\n",
      "    accuracy                           0.86      1442\n",
      "   macro avg       0.86      0.86      0.86      1442\n",
      "weighted avg       0.86      0.86      0.86      1442\n",
      "\n"
     ]
    }
   ],
   "source": [
    "logreg_to = LogisticRegression(max_iter=1000)\n",
    "\n",
    "cv_scores = cross_val_score(logreg_to, X_train_to, y_train, cv=10, scoring='f1_weighted')\n",
    "\n",
    "print(\"\\nResultados de Validación Cruzada (10-Fold) con Term Occurrence (TO):\")\n",
    "print(\"F1 ponderado por Fold:\", cv_scores)\n",
    "print(\"Promedio de F1 ponderado:\", cv_scores.mean())\n",
    "print(\"Desviación Estándar de F1 ponderado:\", cv_scores.std())\n",
    "\n",
    "logreg_to.fit(X_train_to, y_train)\n",
    "y_pred_to = logreg_to.predict(X_test_to)\n",
    "\n",
    "print(\"\\nResultados finales con el conjunto de prueba:\")\n",
    "print(\"F1 ponderado en el conjunto de prueba:\", f1_score(y_test, y_pred_to, average='weighted'))\n",
    "print(\"Reporte de Clasificación:\\n\", classification_report(y_test, y_pred_to))"
   ]
  },
  {
   "cell_type": "code",
   "execution_count": 157,
   "metadata": {},
   "outputs": [
    {
     "name": "stdout",
     "output_type": "stream",
     "text": [
      "\n",
      "Resultados de Validación Cruzada (10-Fold) con TF-IDF:\n",
      "F1 ponderado por Fold: [0.82630136 0.81772522 0.82456128 0.80402166 0.7970441  0.81931975\n",
      " 0.82797624 0.81254332 0.85069804 0.83468306]\n",
      "Promedio de F1 ponderado: 0.8214874027184382\n",
      "Desviación Estándar de F1 ponderado: 0.014503417593262334\n",
      "\n",
      "Resultados finales con el conjunto de prueba:\n",
      "F1 ponderado en el conjunto de prueba: 0.8537166215846472\n",
      "Reporte de Clasificación:\n",
      "               precision    recall  f1-score   support\n",
      "\n",
      "           0       0.83      0.88      0.85       694\n",
      "           1       0.88      0.83      0.86       748\n",
      "\n",
      "    accuracy                           0.85      1442\n",
      "   macro avg       0.85      0.85      0.85      1442\n",
      "weighted avg       0.86      0.85      0.85      1442\n",
      "\n"
     ]
    }
   ],
   "source": [
    "logreg_tfidf = LogisticRegression(max_iter=1000)\n",
    "\n",
    "cv_scores = cross_val_score(logreg_tfidf, X_train_tfidf, y_train, cv=10, scoring='f1_weighted')\n",
    "\n",
    "print(\"\\nResultados de Validación Cruzada (10-Fold) con TF-IDF:\")\n",
    "print(\"F1 ponderado por Fold:\", cv_scores)\n",
    "print(\"Promedio de F1 ponderado:\", cv_scores.mean())\n",
    "print(\"Desviación Estándar de F1 ponderado:\", cv_scores.std())\n",
    "\n",
    "logreg_tfidf.fit(X_train_tfidf, y_train)\n",
    "y_pred_tfidf = logreg_tfidf.predict(X_test_tfidf)\n",
    "\n",
    "print(\"\\nResultados finales con el conjunto de prueba:\")\n",
    "print(\"F1 ponderado en el conjunto de prueba:\", f1_score(y_test, y_pred_tfidf, average='weighted'))\n",
    "print(\"Reporte de Clasificación:\\n\", classification_report(y_test, y_pred_tfidf))"
   ]
  },
  {
   "cell_type": "markdown",
   "metadata": {},
   "source": [
    "#### Decision tree"
   ]
  },
  {
   "cell_type": "code",
   "execution_count": 158,
   "metadata": {},
   "outputs": [
    {
     "name": "stdout",
     "output_type": "stream",
     "text": [
      "\n",
      "Resultados de Validación Cruzada (10-Fold) con Árbol de Decisión y Term Occurrence (TO):\n",
      "F1 ponderado por Fold: [0.71878105 0.70507488 0.70876535 0.73283254 0.69141138 0.72424287\n",
      " 0.72065663 0.69282002 0.73088087 0.74129839]\n",
      "Promedio de F1 ponderado: 0.7166763979044612\n",
      "Desviación Estándar de F1 ponderado: 0.01597241905649873\n",
      "\n",
      "Resultados finales con el conjunto de prueba:\n",
      "F1 ponderado en el conjunto de prueba: 0.7185452078286273\n",
      "Reporte de Clasificación:\n",
      "               precision    recall  f1-score   support\n",
      "\n",
      "           0       0.70      0.73      0.71       694\n",
      "           1       0.74      0.71      0.72       748\n",
      "\n",
      "    accuracy                           0.72      1442\n",
      "   macro avg       0.72      0.72      0.72      1442\n",
      "weighted avg       0.72      0.72      0.72      1442\n",
      "\n"
     ]
    }
   ],
   "source": [
    "tree_to = DecisionTreeClassifier(random_state=42)\n",
    "\n",
    "cv_scores = cross_val_score(tree_to, X_train_to, y_train, cv=10, scoring='f1_weighted')\n",
    "\n",
    "print(\"\\nResultados de Validación Cruzada (10-Fold) con Árbol de Decisión y Term Occurrence (TO):\")\n",
    "print(\"F1 ponderado por Fold:\", cv_scores)\n",
    "print(\"Promedio de F1 ponderado:\", cv_scores.mean())\n",
    "print(\"Desviación Estándar de F1 ponderado:\", cv_scores.std())\n",
    "\n",
    "tree_to.fit(X_train_to, y_train)\n",
    "y_pred_to = tree_to.predict(X_test_to)\n",
    "\n",
    "print(\"\\nResultados finales con el conjunto de prueba:\")\n",
    "print(\"F1 ponderado en el conjunto de prueba:\", f1_score(y_test, y_pred_to, average='weighted'))\n",
    "print(\"Reporte de Clasificación:\\n\", classification_report(y_test, y_pred_to))"
   ]
  },
  {
   "cell_type": "code",
   "execution_count": 159,
   "metadata": {},
   "outputs": [
    {
     "name": "stdout",
     "output_type": "stream",
     "text": [
      "\n",
      "Resultados de Validación Cruzada (10-Fold) con Árbol de Decisión y TF-IDF:\n",
      "F1 ponderado por Fold: [0.67938571 0.68796287 0.71055106 0.70330611 0.69654665 0.6464089\n",
      " 0.70191178 0.71187215 0.71700792 0.68870431]\n",
      "Promedio de F1 ponderado: 0.6943657465770429\n",
      "Desviación Estándar de F1 ponderado: 0.019544933678615158\n",
      "\n",
      "Resultados finales con el conjunto de prueba:\n",
      "F1 ponderado en el conjunto de prueba: 0.6976957286108663\n",
      "Reporte de Clasificación:\n",
      "               precision    recall  f1-score   support\n",
      "\n",
      "           0       0.68      0.69      0.69       694\n",
      "           1       0.71      0.70      0.71       748\n",
      "\n",
      "    accuracy                           0.70      1442\n",
      "   macro avg       0.70      0.70      0.70      1442\n",
      "weighted avg       0.70      0.70      0.70      1442\n",
      "\n"
     ]
    }
   ],
   "source": [
    "tree_tfidf = DecisionTreeClassifier(random_state=42)\n",
    "\n",
    "cv_scores = cross_val_score(tree_tfidf, X_train_tfidf, y_train, cv=10, scoring='f1_weighted')\n",
    "\n",
    "print(\"\\nResultados de Validación Cruzada (10-Fold) con Árbol de Decisión y TF-IDF:\")\n",
    "print(\"F1 ponderado por Fold:\", cv_scores)\n",
    "print(\"Promedio de F1 ponderado:\", cv_scores.mean())\n",
    "print(\"Desviación Estándar de F1 ponderado:\", cv_scores.std())\n",
    "\n",
    "tree_tfidf.fit(X_train_tfidf, y_train)\n",
    "y_pred_tfidf = tree_tfidf.predict(X_test_tfidf)\n",
    "\n",
    "print(\"\\nResultados finales con el conjunto de prueba:\")\n",
    "print(\"F1 ponderado en el conjunto de prueba:\", f1_score(y_test, y_pred_tfidf, average='weighted'))\n",
    "print(\"Reporte de Clasificación:\\n\", classification_report(y_test, y_pred_tfidf))"
   ]
  },
  {
   "cell_type": "markdown",
   "metadata": {},
   "source": [
    "#### K vecinos más cercanos"
   ]
  },
  {
   "cell_type": "code",
   "execution_count": 160,
   "metadata": {},
   "outputs": [
    {
     "name": "stdout",
     "output_type": "stream",
     "text": [
      "\n",
      "Resultados de Validación Cruzada (10-Fold) con KNN y Term Occurrence (TO):\n",
      "F1 ponderado por Fold: [0.39932836 0.40097923 0.4249618  0.40198668 0.40125138 0.37281043\n",
      " 0.37909429 0.38303526 0.40446715 0.39810094]\n",
      "Promedio de F1 ponderado: 0.3966015519552025\n",
      "Desviación Estándar de F1 ponderado: 0.014149930911753579\n",
      "\n",
      "Resultados finales con el conjunto de prueba:\n",
      "F1 ponderado en el conjunto de prueba: 0.4134468008643961\n",
      "Reporte de Clasificación:\n",
      "               precision    recall  f1-score   support\n",
      "\n",
      "           0       0.69      0.07      0.12       694\n",
      "           1       0.53      0.97      0.68       748\n",
      "\n",
      "    accuracy                           0.54      1442\n",
      "   macro avg       0.61      0.52      0.40      1442\n",
      "weighted avg       0.60      0.54      0.41      1442\n",
      "\n"
     ]
    }
   ],
   "source": [
    "knn_to = KNeighborsClassifier(n_neighbors=5)\n",
    "\n",
    "cv_scores = cross_val_score(knn_to, X_train_to, y_train, cv=10, scoring='f1_weighted')\n",
    "\n",
    "print(\"\\nResultados de Validación Cruzada (10-Fold) con KNN y Term Occurrence (TO):\")\n",
    "print(\"F1 ponderado por Fold:\", cv_scores)\n",
    "print(\"Promedio de F1 ponderado:\", cv_scores.mean())\n",
    "print(\"Desviación Estándar de F1 ponderado:\", cv_scores.std())\n",
    "\n",
    "knn_to.fit(X_train_to, y_train)\n",
    "y_pred_to = knn_to.predict(X_test_to)\n",
    "\n",
    "print(\"\\nResultados finales con el conjunto de prueba:\")\n",
    "print(\"F1 ponderado en el conjunto de prueba:\", f1_score(y_test, y_pred_to, average='weighted'))\n",
    "print(\"Reporte de Clasificación:\\n\", classification_report(y_test, y_pred_to))"
   ]
  },
  {
   "cell_type": "code",
   "execution_count": null,
   "metadata": {},
   "outputs": [
    {
     "name": "stdout",
     "output_type": "stream",
     "text": [
      "\n",
      "Resultados de Validación Cruzada (10-Fold) con KNN y TF-IDF:\n",
      "F1 ponderado por Fold: [0.77643384 0.75731757 0.7461661  0.76430234 0.75888145 0.78508628\n",
      " 0.77441609 0.78974873 0.77934966 0.76214776]\n",
      "Promedio de F1 ponderado: 0.7693849827670334\n",
      "Desviación Estándar de F1 ponderado: 0.013072031414300465\n",
      "\n",
      "Resultados finales con el conjunto de prueba:\n",
      "F1 ponderado en el conjunto de prueba: 0.7850952753075396\n",
      "Reporte de Clasificación:\n",
      "               precision    recall  f1-score   support\n",
      "\n",
      "           0       0.77      0.79      0.78       694\n",
      "           1       0.80      0.78      0.79       748\n",
      "\n",
      "    accuracy                           0.79      1442\n",
      "   macro avg       0.78      0.79      0.78      1442\n",
      "weighted avg       0.79      0.79      0.79      1442\n",
      "\n"
     ]
    }
   ],
   "source": [
    "knn_tfidf = KNeighborsClassifier(n_neighbors=5)\n",
    "\n",
    "cv_scores = cross_val_score(knn_tfidf, X_train_tfidf, y_train, cv=10, scoring='f1_weighted')\n",
    "\n",
    "print(\"\\nResultados de Validación Cruzada (10-Fold) con KNN y TF-IDF:\")\n",
    "print(\"F1 ponderado por Fold:\", cv_scores)\n",
    "print(\"Promedio de F1 ponderado:\", cv_scores.mean())\n",
    "print(\"Desviación Estándar de F1 ponderado:\", cv_scores.std())\n",
    "\n",
    "knn_tfidf.fit(X_train_tfidf, y_train)\n",
    "y_pred_tfidf = knn_tfidf.predict(X_test_tfidf)\n",
    "\n",
    "print(\"\\nResultados finales con el conjunto de prueba:\")\n",
    "print(\"F1 ponderado en el conjunto de prueba:\", f1_score(y_test, y_pred_tfidf, average='weighted'))\n",
    "print(\"Reporte de Clasificación:\\n\", classification_report(y_test, y_pred_tfidf))"
   ]
  },
  {
   "cell_type": "markdown",
   "metadata": {},
   "source": [
    "## Stopwords"
   ]
  },
  {
   "cell_type": "code",
   "execution_count": 162,
   "metadata": {},
   "outputs": [],
   "source": [
    "X_train_to_stopwords, X_test_to_stopwords, y_train, y_test = train_test_split(\n",
    "    X_to_stopwords, y, test_size=0.2, random_state=42\n",
    ")\n",
    "\n",
    "# Dividir en conjuntos de entrenamiento y prueba para TF-IDF\n",
    "X_train_tfidf_stopwords, X_test_tfidf_stopwords, _, _ = train_test_split(\n",
    "    X_tfidf_stopwords, y, test_size=0.2, random_state=42\n",
    ")"
   ]
  },
  {
   "cell_type": "markdown",
   "metadata": {},
   "source": [
    "#### Logistic Regression"
   ]
  },
  {
   "cell_type": "code",
   "execution_count": 163,
   "metadata": {},
   "outputs": [
    {
     "name": "stdout",
     "output_type": "stream",
     "text": [
      "\n",
      "Resultados de Validación Cruzada (10-Fold) con Term Occurrence (TO) y eliminación de stopwords:\n",
      "F1 ponderado por Fold: [0.83010598 0.81451125 0.84736502 0.83015904 0.80936104 0.85437391\n",
      " 0.83187696 0.83184665 0.85241854 0.85754612]\n",
      "Promedio de F1 ponderado: 0.8359564504881776\n",
      "Desviación Estándar de F1 ponderado: 0.015732308819759563\n",
      "\n",
      "Resultados finales con el conjunto de prueba:\n",
      "F1 ponderado en el conjunto de prueba: 0.8585777401539532\n",
      "Reporte de Clasificación:\n",
      "               precision    recall  f1-score   support\n",
      "\n",
      "           0       0.84      0.87      0.86       694\n",
      "           1       0.87      0.85      0.86       748\n",
      "\n",
      "    accuracy                           0.86      1442\n",
      "   macro avg       0.86      0.86      0.86      1442\n",
      "weighted avg       0.86      0.86      0.86      1442\n",
      "\n"
     ]
    }
   ],
   "source": [
    "logreg_to_stopwords = LogisticRegression(max_iter=1000)\n",
    "\n",
    "cv_scores = cross_val_score(logreg_to_stopwords, X_train_to_stopwords, y_train, cv=10, scoring='f1_weighted')\n",
    "\n",
    "print(\"\\nResultados de Validación Cruzada (10-Fold) con Term Occurrence (TO) y eliminación de stopwords:\")\n",
    "print(\"F1 ponderado por Fold:\", cv_scores)\n",
    "print(\"Promedio de F1 ponderado:\", cv_scores.mean())\n",
    "print(\"Desviación Estándar de F1 ponderado:\", cv_scores.std())\n",
    "\n",
    "logreg_to_stopwords.fit(X_train_to_stopwords, y_train)\n",
    "y_pred_to_stopwords = logreg_to_stopwords.predict(X_test_to_stopwords)\n",
    "\n",
    "print(\"\\nResultados finales con el conjunto de prueba:\")\n",
    "print(\"F1 ponderado en el conjunto de prueba:\", f1_score(y_test, y_pred_to_stopwords, average='weighted'))\n",
    "print(\"Reporte de Clasificación:\\n\", classification_report(y_test, y_pred_to_stopwords))"
   ]
  },
  {
   "cell_type": "code",
   "execution_count": null,
   "metadata": {},
   "outputs": [
    {
     "name": "stdout",
     "output_type": "stream",
     "text": [
      "\n",
      "Resultados de Validación Cruzada (10-Fold) con TF-IDF y eliminación de stopwords:\n",
      "F1 ponderado por Fold: [0.83530679 0.81577963 0.86101519 0.83165843 0.82304493 0.8541143\n",
      " 0.84022042 0.81249027 0.8644067  0.85534123]\n",
      "Promedio de F1 ponderado: 0.8393377894263354\n",
      "Desviación Estándar de F1 ponderado: 0.017860709841992718\n",
      "\n",
      "Resultados finales con el conjunto de prueba:\n",
      "F1 ponderado en el conjunto de prueba: 0.8571681403769127\n",
      "Reporte de Clasificación:\n",
      "               precision    recall  f1-score   support\n",
      "\n",
      "           0       0.83      0.88      0.86       694\n",
      "           1       0.89      0.83      0.86       748\n",
      "\n",
      "    accuracy                           0.86      1442\n",
      "   macro avg       0.86      0.86      0.86      1442\n",
      "weighted avg       0.86      0.86      0.86      1442\n",
      "\n"
     ]
    }
   ],
   "source": [
    "logreg_tfidf_stopwords = LogisticRegression(max_iter=1000)\n",
    "\n",
    "cv_scores = cross_val_score(logreg_tfidf_stopwords, X_train_tfidf_stopwords, y_train, cv=10, scoring='f1_weighted')\n",
    "\n",
    "print(\"\\nResultados de Validación Cruzada (10-Fold) con TF-IDF y eliminación de stopwords:\")\n",
    "print(\"F1 ponderado por Fold:\", cv_scores)\n",
    "print(\"Promedio de F1 ponderado:\", cv_scores.mean())\n",
    "print(\"Desviación Estándar de F1 ponderado:\", cv_scores.std())\n",
    "\n",
    "logreg_tfidf_stopwords.fit(X_train_tfidf_stopwords, y_train)\n",
    "y_pred_tfidf_stopwords = logreg_tfidf_stopwords.predict(X_test_tfidf_stopwords)\n",
    "\n",
    "print(\"\\nResultados finales con el conjunto de prueba:\")\n",
    "print(\"F1 ponderado en el conjunto de prueba:\", f1_score(y_test, y_pred_tfidf_stopwords, average='weighted'))\n",
    "print(\"Reporte de Clasificación:\\n\", classification_report(y_test, y_pred_tfidf_stopwords))"
   ]
  },
  {
   "cell_type": "markdown",
   "metadata": {},
   "source": [
    "#### Decision tree"
   ]
  },
  {
   "cell_type": "code",
   "execution_count": null,
   "metadata": {},
   "outputs": [
    {
     "name": "stdout",
     "output_type": "stream",
     "text": [
      "\n",
      "Resultados de Validación Cruzada (10-Fold) con Term Occurrence (TO) y eliminación de stopwords:\n",
      "F1 ponderado por Fold: [0.71558913 0.70668716 0.75316878 0.7280967  0.71864831 0.76127509\n",
      " 0.74515437 0.75316878 0.71986014 0.78274917]\n",
      "Promedio de F1 ponderado: 0.7384397622384167\n",
      "Desviación Estándar de F1 ponderado: 0.023104137713269128\n",
      "\n",
      "Resultados finales con el conjunto de prueba:\n",
      "F1 ponderado en el conjunto de prueba: 0.7574061602631524\n",
      "Reporte de Clasificación:\n",
      "               precision    recall  f1-score   support\n",
      "\n",
      "           0       0.79      0.67      0.73       694\n",
      "           1       0.74      0.84      0.78       748\n",
      "\n",
      "    accuracy                           0.76      1442\n",
      "   macro avg       0.76      0.76      0.76      1442\n",
      "weighted avg       0.76      0.76      0.76      1442\n",
      "\n"
     ]
    }
   ],
   "source": [
    "tree_to_stopwords = DecisionTreeClassifier(random_state=42)\n",
    "\n",
    "cv_scores = cross_val_score(tree_to_stopwords, X_train_to_stopwords, y_train, cv=10, scoring='f1_weighted')\n",
    "\n",
    "print(\"\\nResultados de Validación Cruzada (10-Fold) con Term Occurrence (TO) y eliminación de stopwords:\")\n",
    "print(\"F1 ponderado por Fold:\", cv_scores)\n",
    "print(\"Promedio de F1 ponderado:\", cv_scores.mean())\n",
    "print(\"Desviación Estándar de F1 ponderado:\", cv_scores.std())\n",
    "\n",
    "tree_to_stopwords.fit(X_train_to_stopwords, y_train)\n",
    "y_pred_to_stopwords = tree_to_stopwords.predict(X_test_to_stopwords)\n",
    "\n",
    "print(\"\\nResultados finales con el conjunto de prueba:\")\n",
    "print(\"F1 ponderado en el conjunto de prueba:\", f1_score(y_test, y_pred_to_stopwords, average='weighted'))\n",
    "print(\"Reporte de Clasificación:\\n\", classification_report(y_test, y_pred_to_stopwords))"
   ]
  },
  {
   "cell_type": "code",
   "execution_count": null,
   "metadata": {},
   "outputs": [
    {
     "name": "stdout",
     "output_type": "stream",
     "text": [
      "\n",
      "Resultados de Validación Cruzada (10-Fold) con TF-IDF y eliminación de stopwords:\n",
      "F1 ponderado por Fold: [0.70559479 0.70593511 0.77110952 0.70035366 0.71930731 0.74611643\n",
      " 0.73989718 0.74578112 0.73602269 0.76809482]\n",
      "Promedio de F1 ponderado: 0.7338212640693375\n",
      "Desviación Estándar de F1 ponderado: 0.024095995141573144\n",
      "\n",
      "Resultados finales con el conjunto de prueba:\n",
      "F1 ponderado en el conjunto de prueba: 0.7630390145891854\n",
      "Reporte de Clasificación:\n",
      "               precision    recall  f1-score   support\n",
      "\n",
      "           0       0.79      0.70      0.74       694\n",
      "           1       0.75      0.82      0.78       748\n",
      "\n",
      "    accuracy                           0.76      1442\n",
      "   macro avg       0.77      0.76      0.76      1442\n",
      "weighted avg       0.77      0.76      0.76      1442\n",
      "\n"
     ]
    }
   ],
   "source": [
    "tree_tfidf_stopwords = DecisionTreeClassifier(random_state=42)\n",
    "\n",
    "cv_scores = cross_val_score(tree_tfidf_stopwords, X_train_tfidf_stopwords, y_train, cv=10, scoring='f1_weighted')\n",
    "\n",
    "print(\"\\nResultados de Validación Cruzada (10-Fold) con TF-IDF y eliminación de stopwords:\")\n",
    "print(\"F1 ponderado por Fold:\", cv_scores)\n",
    "print(\"Promedio de F1 ponderado:\", cv_scores.mean())\n",
    "print(\"Desviación Estándar de F1 ponderado:\", cv_scores.std())\n",
    "\n",
    "tree_tfidf_stopwords.fit(X_train_tfidf_stopwords, y_train)\n",
    "y_pred_tfidf_stopwords = tree_tfidf_stopwords.predict(X_test_tfidf_stopwords)\n",
    "\n",
    "print(\"\\nResultados finales con el conjunto de prueba:\")\n",
    "print(\"F1 ponderado en el conjunto de prueba:\", f1_score(y_test, y_pred_tfidf_stopwords, average='weighted'))\n",
    "print(\"Reporte de Clasificación:\\n\", classification_report(y_test, y_pred_tfidf_stopwords))"
   ]
  },
  {
   "cell_type": "markdown",
   "metadata": {},
   "source": [
    "## Stemming"
   ]
  },
  {
   "cell_type": "code",
   "execution_count": 167,
   "metadata": {},
   "outputs": [],
   "source": [
    "X_train_to_stemming, X_test_to_stemming, y_train, y_test = train_test_split(\n",
    "    X_to_stemming, y, test_size=0.2, random_state=42\n",
    ")\n",
    "\n",
    "X_train_tfidf_stemming, X_test_tfidf_stemming, _, _ = train_test_split(\n",
    "    X_tfidf_stemming, y, test_size=0.2, random_state=42\n",
    ")"
   ]
  },
  {
   "cell_type": "markdown",
   "metadata": {},
   "source": [
    "#### Regresión Logística"
   ]
  },
  {
   "cell_type": "code",
   "execution_count": null,
   "metadata": {},
   "outputs": [
    {
     "name": "stdout",
     "output_type": "stream",
     "text": [
      "\n",
      "Resultados de Validación Cruzada (10-Fold) con Term Occurrence (TO) y Stemming:\n",
      "F1 ponderado por Fold: [0.8543669  0.83352015 0.86303307 0.84402361 0.847487   0.86126679\n",
      " 0.85263052 0.84402361 0.86455394 0.864567  ]\n",
      "Promedio de F1 ponderado: 0.8529472602632208\n",
      "Desviación Estándar de F1 ponderado: 0.010046281163039966\n",
      "\n",
      "Resultados finales con el conjunto de prueba:\n",
      "F1 ponderado en el conjunto de prueba: 0.8724441359191538\n",
      "Reporte de Clasificación:\n",
      "               precision    recall  f1-score   support\n",
      "\n",
      "           0       0.85      0.89      0.87       694\n",
      "           1       0.89      0.86      0.87       748\n",
      "\n",
      "    accuracy                           0.87      1442\n",
      "   macro avg       0.87      0.87      0.87      1442\n",
      "weighted avg       0.87      0.87      0.87      1442\n",
      "\n"
     ]
    }
   ],
   "source": [
    "logreg_to_stemming = LogisticRegression(max_iter=1000)\n",
    "\n",
    "cv_scores = cross_val_score(logreg_to_stemming, X_train_to_stemming, y_train, cv=10, scoring='f1_weighted')\n",
    "\n",
    "print(\"\\nResultados de Validación Cruzada (10-Fold) con Term Occurrence (TO) y Stemming:\")\n",
    "print(\"F1 ponderado por Fold:\", cv_scores)\n",
    "print(\"Promedio de F1 ponderado:\", cv_scores.mean())\n",
    "print(\"Desviación Estándar de F1 ponderado:\", cv_scores.std())\n",
    "\n",
    "logreg_to_stemming.fit(X_train_to_stemming, y_train)\n",
    "y_pred_to_stemming = logreg_to_stemming.predict(X_test_to_stemming)\n",
    "\n",
    "print(\"\\nResultados finales con el conjunto de prueba:\")\n",
    "print(\"F1 ponderado en el conjunto de prueba:\", f1_score(y_test, y_pred_to_stemming, average='weighted'))\n",
    "print(\"Reporte de Clasificación:\\n\", classification_report(y_test, y_pred_to_stemming))"
   ]
  },
  {
   "cell_type": "code",
   "execution_count": null,
   "metadata": {},
   "outputs": [
    {
     "name": "stdout",
     "output_type": "stream",
     "text": [
      "\n",
      "Resultados de Validación Cruzada (10-Fold) con TF-IDF y Stemming:\n",
      "F1 ponderado por Fold: [0.83848654 0.83850898 0.84673429 0.81610551 0.83520675 0.8262072\n",
      " 0.83517006 0.83517006 0.86632146 0.85741531]\n",
      "Promedio de F1 ponderado: 0.8395326159169942\n",
      "Desviación Estándar de F1 ponderado: 0.013691647010830213\n",
      "\n",
      "Resultados finales con el conjunto de prueba:\n",
      "F1 ponderado en el conjunto de prueba: 0.8543689320388349\n",
      "Reporte de Clasificación:\n",
      "               precision    recall  f1-score   support\n",
      "\n",
      "           0       0.82      0.89      0.85       694\n",
      "           1       0.89      0.82      0.85       748\n",
      "\n",
      "    accuracy                           0.85      1442\n",
      "   macro avg       0.86      0.86      0.85      1442\n",
      "weighted avg       0.86      0.85      0.85      1442\n",
      "\n"
     ]
    }
   ],
   "source": [
    "logreg_tfidf_stemming = LogisticRegression(max_iter=1000)\n",
    "\n",
    "cv_scores = cross_val_score(logreg_tfidf_stemming, X_train_tfidf_stemming, y_train, cv=10, scoring='f1_weighted')\n",
    "\n",
    "print(\"\\nResultados de Validación Cruzada (10-Fold) con TF-IDF y Stemming:\")\n",
    "print(\"F1 ponderado por Fold:\", cv_scores)\n",
    "print(\"Promedio de F1 ponderado:\", cv_scores.mean())\n",
    "print(\"Desviación Estándar de F1 ponderado:\", cv_scores.std())\n",
    "\n",
    "logreg_tfidf_stemming.fit(X_train_tfidf_stemming, y_train)\n",
    "y_pred_tfidf_stemming = logreg_tfidf_stemming.predict(X_test_tfidf_stemming)\n",
    "\n",
    "print(\"\\nResultados finales con el conjunto de prueba:\")\n",
    "print(\"F1 ponderado en el conjunto de prueba:\", f1_score(y_test, y_pred_tfidf_stemming, average='weighted'))\n",
    "print(\"Reporte de Clasificación:\\n\", classification_report(y_test, y_pred_tfidf_stemming))"
   ]
  },
  {
   "cell_type": "markdown",
   "metadata": {},
   "source": [
    "#### Decision Tree"
   ]
  },
  {
   "cell_type": "code",
   "execution_count": null,
   "metadata": {},
   "outputs": [
    {
     "name": "stdout",
     "output_type": "stream",
     "text": [
      "\n",
      "Resultados de Validación Cruzada (10-Fold) con Term Occurrence (TO) y Stemming:\n",
      "F1 ponderado por Fold: [0.72778517 0.70703179 0.71906525 0.74868205 0.71170207 0.72604639\n",
      " 0.74868205 0.74168708 0.73254858 0.74304316]\n",
      "Promedio de F1 ponderado: 0.7306273594788298\n",
      "Desviación Estándar de F1 ponderado: 0.014176629422511756\n",
      "\n",
      "Resultados finales con el conjunto de prueba:\n",
      "F1 ponderado en el conjunto de prueba: 0.7495670010826453\n",
      "Reporte de Clasificación:\n",
      "               precision    recall  f1-score   support\n",
      "\n",
      "           0       0.74      0.73      0.74       694\n",
      "           1       0.75      0.77      0.76       748\n",
      "\n",
      "    accuracy                           0.75      1442\n",
      "   macro avg       0.75      0.75      0.75      1442\n",
      "weighted avg       0.75      0.75      0.75      1442\n",
      "\n"
     ]
    }
   ],
   "source": [
    "tree_to_stemming = DecisionTreeClassifier(random_state=42)\n",
    "\n",
    "cv_scores = cross_val_score(tree_to_stemming, X_train_to_stemming, y_train, cv=10, scoring='f1_weighted')\n",
    "\n",
    "print(\"\\nResultados de Validación Cruzada (10-Fold) con Term Occurrence (TO) y Stemming:\")\n",
    "print(\"F1 ponderado por Fold:\", cv_scores)\n",
    "print(\"Promedio de F1 ponderado:\", cv_scores.mean())\n",
    "print(\"Desviación Estándar de F1 ponderado:\", cv_scores.std())\n",
    "\n",
    "tree_to_stemming.fit(X_train_to_stemming, y_train)\n",
    "y_pred_to_stemming = tree_to_stemming.predict(X_test_to_stemming)\n",
    "\n",
    "print(\"\\nResultados finales con el conjunto de prueba:\")\n",
    "print(\"F1 ponderado en el conjunto de prueba:\", f1_score(y_test, y_pred_to_stemming, average='weighted'))\n",
    "print(\"Reporte de Clasificación:\\n\", classification_report(y_test, y_pred_to_stemming))"
   ]
  },
  {
   "cell_type": "code",
   "execution_count": null,
   "metadata": {},
   "outputs": [
    {
     "name": "stdout",
     "output_type": "stream",
     "text": [
      "\n",
      "Resultados de Validación Cruzada (10-Fold) con TF-IDF y Stemming:\n",
      "F1 ponderado por Fold: [0.70526635 0.68779208 0.70689966 0.720512   0.68961057 0.70840073\n",
      " 0.69780819 0.72779991 0.70998991 0.70135288]\n",
      "Promedio de F1 ponderado: 0.7055432271401159\n",
      "Desviación Estándar de F1 ponderado: 0.01181364244043037\n",
      "\n",
      "Resultados finales con el conjunto de prueba:\n",
      "F1 ponderado en el conjunto de prueba: 0.7295798033529549\n",
      "Reporte de Clasificación:\n",
      "               precision    recall  f1-score   support\n",
      "\n",
      "           0       0.72      0.72      0.72       694\n",
      "           1       0.74      0.74      0.74       748\n",
      "\n",
      "    accuracy                           0.73      1442\n",
      "   macro avg       0.73      0.73      0.73      1442\n",
      "weighted avg       0.73      0.73      0.73      1442\n",
      "\n"
     ]
    }
   ],
   "source": [
    "tree_tfidf_stemming = DecisionTreeClassifier(random_state=42)\n",
    "\n",
    "cv_scores = cross_val_score(tree_tfidf_stemming, X_train_tfidf_stemming, y_train, cv=10, scoring='f1_weighted')\n",
    "\n",
    "print(\"\\nResultados de Validación Cruzada (10-Fold) con TF-IDF y Stemming:\")\n",
    "print(\"F1 ponderado por Fold:\", cv_scores)\n",
    "print(\"Promedio de F1 ponderado:\", cv_scores.mean())\n",
    "print(\"Desviación Estándar de F1 ponderado:\", cv_scores.std())\n",
    "\n",
    "tree_tfidf_stemming.fit(X_train_tfidf_stemming, y_train)\n",
    "y_pred_tfidf_stemming = tree_tfidf_stemming.predict(X_test_tfidf_stemming)\n",
    "\n",
    "print(\"\\nResultados finales con el conjunto de prueba:\")\n",
    "print(\"F1 ponderado en el conjunto de prueba:\", f1_score(y_test, y_pred_tfidf_stemming, average='weighted'))\n",
    "print(\"Reporte de Clasificación:\\n\", classification_report(y_test, y_pred_tfidf_stemming))"
   ]
  },
  {
   "cell_type": "markdown",
   "metadata": {},
   "source": [
    "#### KNN"
   ]
  },
  {
   "cell_type": "code",
   "execution_count": null,
   "metadata": {},
   "outputs": [
    {
     "name": "stdout",
     "output_type": "stream",
     "text": [
      "\n",
      "Resultados de Validación Cruzada (10-Fold) con Term Occurrence (TO) y Stemming:\n",
      "F1 ponderado por Fold: [0.39571057 0.42282606 0.42067047 0.37626917 0.4109008  0.38750613\n",
      " 0.38944658 0.40226931 0.40573432 0.41005625]\n",
      "Promedio de F1 ponderado: 0.4021389648567286\n",
      "Desviación Estándar de F1 ponderado: 0.01417588103774773\n",
      "\n",
      "Resultados finales con el conjunto de prueba:\n",
      "F1 ponderado en el conjunto de prueba: 0.4119130079784142\n",
      "Reporte de Clasificación:\n",
      "               precision    recall  f1-score   support\n",
      "\n",
      "           0       0.71      0.06      0.12       694\n",
      "           1       0.53      0.98      0.69       748\n",
      "\n",
      "    accuracy                           0.54      1442\n",
      "   macro avg       0.62      0.52      0.40      1442\n",
      "weighted avg       0.62      0.54      0.41      1442\n",
      "\n"
     ]
    }
   ],
   "source": [
    "knn_to_stemming = KNeighborsClassifier(n_neighbors=5)  \n",
    "\n",
    "cv_scores = cross_val_score(knn_to_stemming, X_train_to_stemming, y_train, cv=10, scoring='f1_weighted')\n",
    "\n",
    "print(\"\\nResultados de Validación Cruzada (10-Fold) con Term Occurrence (TO) y Stemming:\")\n",
    "print(\"F1 ponderado por Fold:\", cv_scores)\n",
    "print(\"Promedio de F1 ponderado:\", cv_scores.mean())\n",
    "print(\"Desviación Estándar de F1 ponderado:\", cv_scores.std())\n",
    "\n",
    "knn_to_stemming.fit(X_train_to_stemming, y_train)\n",
    "y_pred_to_stemming = knn_to_stemming.predict(X_test_to_stemming)\n",
    "\n",
    "print(\"\\nResultados finales con el conjunto de prueba:\")\n",
    "print(\"F1 ponderado en el conjunto de prueba:\", f1_score(y_test, y_pred_to_stemming, average='weighted'))\n",
    "print(\"Reporte de Clasificación:\\n\", classification_report(y_test, y_pred_to_stemming))"
   ]
  },
  {
   "cell_type": "code",
   "execution_count": null,
   "metadata": {},
   "outputs": [
    {
     "name": "stdout",
     "output_type": "stream",
     "text": [
      "\n",
      "Resultados de Validación Cruzada (10-Fold) con TF-IDF y Stemming:\n",
      "F1 ponderado por Fold: [0.80238003 0.77465203 0.75302066 0.7729295  0.74334356 0.78140844\n",
      " 0.76064059 0.76889737 0.77770275 0.76205593]\n",
      "Promedio de F1 ponderado: 0.7697030850034775\n",
      "Desviación Estándar de F1 ponderado: 0.01555017444057223\n",
      "\n",
      "Resultados finales con el conjunto de prueba:\n",
      "F1 ponderado en el conjunto de prueba: 0.7947848295404794\n",
      "Reporte de Clasificación:\n",
      "               precision    recall  f1-score   support\n",
      "\n",
      "           0       0.77      0.82      0.79       694\n",
      "           1       0.82      0.78      0.80       748\n",
      "\n",
      "    accuracy                           0.79      1442\n",
      "   macro avg       0.80      0.80      0.79      1442\n",
      "weighted avg       0.80      0.79      0.79      1442\n",
      "\n"
     ]
    }
   ],
   "source": [
    "knn_tfidf_stemming = KNeighborsClassifier(n_neighbors=5) \n",
    "\n",
    "cv_scores = cross_val_score(knn_tfidf_stemming, X_train_tfidf_stemming, y_train, cv=10, scoring='f1_weighted')\n",
    "\n",
    "print(\"\\nResultados de Validación Cruzada (10-Fold) con TF-IDF y Stemming:\")\n",
    "print(\"F1 ponderado por Fold:\", cv_scores)\n",
    "print(\"Promedio de F1 ponderado:\", cv_scores.mean())\n",
    "print(\"Desviación Estándar de F1 ponderado:\", cv_scores.std())\n",
    "\n",
    "knn_tfidf_stemming.fit(X_train_tfidf_stemming, y_train)\n",
    "y_pred_tfidf_stemming = knn_tfidf_stemming.predict(X_test_tfidf_stemming)\n",
    "\n",
    "print(\"\\nResultados finales con el conjunto de prueba:\")\n",
    "print(\"F1 ponderado en el conjunto de prueba:\", f1_score(y_test, y_pred_tfidf_stemming, average='weighted'))\n",
    "print(\"Reporte de Clasificación:\\n\", classification_report(y_test, y_pred_tfidf_stemming))"
   ]
  },
  {
   "cell_type": "markdown",
   "metadata": {},
   "source": [
    "## Stemming + Stopwords"
   ]
  },
  {
   "cell_type": "code",
   "execution_count": 174,
   "metadata": {},
   "outputs": [],
   "source": [
    "X_train_to_preprocessed, X_test_to_preprocessed, y_train, y_test = train_test_split(\n",
    "    X_to_preprocessed, y, test_size=0.2, random_state=42\n",
    ")\n",
    "\n",
    "X_train_tfidf_preprocessed, X_test_tfidf_preprocessed, _, _ = train_test_split(\n",
    "    X_tfidf_preprocessed, y, test_size=0.2, random_state=42\n",
    ")"
   ]
  },
  {
   "cell_type": "markdown",
   "metadata": {},
   "source": [
    "#### Regresión Logística"
   ]
  },
  {
   "cell_type": "code",
   "execution_count": null,
   "metadata": {},
   "outputs": [
    {
     "name": "stdout",
     "output_type": "stream",
     "text": [
      "\n",
      "Resultados de Validación Cruzada (10-Fold) con Term Occurrence (TO) + Stemming + Stopwords + Frecuencia:\n",
      "F1 ponderado por Fold: [0.84229243 0.81972162 0.85788818 0.84220426 0.83013047 0.85435378\n",
      " 0.83188605 0.84748883 0.89062665 0.85415963]\n",
      "Promedio de F1 ponderado: 0.8470751899310336\n",
      "Desviación Estándar de F1 ponderado: 0.018519288305909255\n",
      "\n",
      "Resultados finales con el conjunto de prueba:\n",
      "F1 ponderado en el conjunto de prueba: 0.8606580814302435\n",
      "Reporte de Clasificación:\n",
      "               precision    recall  f1-score   support\n",
      "\n",
      "           0       0.84      0.87      0.86       694\n",
      "           1       0.88      0.85      0.86       748\n",
      "\n",
      "    accuracy                           0.86      1442\n",
      "   macro avg       0.86      0.86      0.86      1442\n",
      "weighted avg       0.86      0.86      0.86      1442\n",
      "\n"
     ]
    }
   ],
   "source": [
    "logreg_to_preprocessed = LogisticRegression(max_iter=1000)\n",
    "\n",
    "cv_scores = cross_val_score(logreg_to_preprocessed, X_train_to_preprocessed, y_train, cv=10, scoring='f1_weighted')\n",
    "\n",
    "print(\"\\nResultados de Validación Cruzada (10-Fold) con Term Occurrence (TO) + Stemming + Stopwords + Frecuencia:\")\n",
    "print(\"F1 ponderado por Fold:\", cv_scores)\n",
    "print(\"Promedio de F1 ponderado:\", cv_scores.mean())\n",
    "print(\"Desviación Estándar de F1 ponderado:\", cv_scores.std())\n",
    "\n",
    "logreg_to_preprocessed.fit(X_train_to_preprocessed, y_train)\n",
    "y_pred_to_preprocessed = logreg_to_preprocessed.predict(X_test_to_preprocessed)\n",
    "\n",
    "print(\"\\nResultados finales con el conjunto de prueba:\")\n",
    "print(\"F1 ponderado en el conjunto de prueba:\", f1_score(y_test, y_pred_to_preprocessed, average='weighted'))\n",
    "print(\"Reporte de Clasificación:\\n\", classification_report(y_test, y_pred_to_preprocessed))"
   ]
  },
  {
   "cell_type": "code",
   "execution_count": null,
   "metadata": {},
   "outputs": [
    {
     "name": "stdout",
     "output_type": "stream",
     "text": [
      "\n",
      "Resultados de Validación Cruzada (10-Fold) con TF-IDF + Stemming + Stopwords + Frecuencia:\n",
      "F1 ponderado por Fold: [0.82474179 0.82626899 0.86629238 0.82803531 0.83679709 0.84545483\n",
      " 0.84914033 0.83520675 0.89232475 0.85045996]\n",
      "Promedio de F1 ponderado: 0.8454722177726224\n",
      "Desviación Estándar de F1 ponderado: 0.019875035661812642\n",
      "\n",
      "Resultados finales con el conjunto de prueba:\n",
      "F1 ponderado en el conjunto de prueba: 0.8682385575589459\n",
      "Reporte de Clasificación:\n",
      "               precision    recall  f1-score   support\n",
      "\n",
      "           0       0.84      0.90      0.87       694\n",
      "           1       0.90      0.84      0.87       748\n",
      "\n",
      "    accuracy                           0.87      1442\n",
      "   macro avg       0.87      0.87      0.87      1442\n",
      "weighted avg       0.87      0.87      0.87      1442\n",
      "\n"
     ]
    }
   ],
   "source": [
    "logreg_tfidf_preprocessed = LogisticRegression(max_iter=1000)\n",
    "\n",
    "cv_scores = cross_val_score(logreg_tfidf_preprocessed, X_train_tfidf_preprocessed, y_train, cv=10, scoring='f1_weighted')\n",
    "\n",
    "print(\"\\nResultados de Validación Cruzada (10-Fold) con TF-IDF + Stemming + Stopwords + Frecuencia:\")\n",
    "print(\"F1 ponderado por Fold:\", cv_scores)\n",
    "print(\"Promedio de F1 ponderado:\", cv_scores.mean())\n",
    "print(\"Desviación Estándar de F1 ponderado:\", cv_scores.std())\n",
    "\n",
    "logreg_tfidf_preprocessed.fit(X_train_tfidf_preprocessed, y_train)\n",
    "y_pred_tfidf_preprocessed = logreg_tfidf_preprocessed.predict(X_test_tfidf_preprocessed)\n",
    "\n",
    "print(\"\\nResultados finales con el conjunto de prueba:\")\n",
    "print(\"F1 ponderado en el conjunto de prueba:\", f1_score(y_test, y_pred_tfidf_preprocessed, average='weighted'))\n",
    "print(\"Reporte de Clasificación:\\n\", classification_report(y_test, y_pred_tfidf_preprocessed))"
   ]
  },
  {
   "cell_type": "markdown",
   "metadata": {},
   "source": [
    "#### Decision tree"
   ]
  },
  {
   "cell_type": "code",
   "execution_count": null,
   "metadata": {},
   "outputs": [
    {
     "name": "stdout",
     "output_type": "stream",
     "text": [
      "\n",
      "Resultados de Validación Cruzada (10-Fold) con Term Occurrence (TO) + Stemming + Stopwords + Frecuencia:\n",
      "F1 ponderado por Fold: [0.74224142 0.71013673 0.76413235 0.73725563 0.71899177 0.77026495\n",
      " 0.76567939 0.74969229 0.74356277 0.79144546]\n",
      "Promedio de F1 ponderado: 0.7493402761443487\n",
      "Desviación Estándar de F1 ponderado: 0.02320419527666585\n",
      "\n",
      "Resultados finales con el conjunto de prueba:\n",
      "F1 ponderado en el conjunto de prueba: 0.7717852072821054\n",
      "Reporte de Clasificación:\n",
      "               precision    recall  f1-score   support\n",
      "\n",
      "           0       0.79      0.72      0.75       694\n",
      "           1       0.76      0.82      0.79       748\n",
      "\n",
      "    accuracy                           0.77      1442\n",
      "   macro avg       0.77      0.77      0.77      1442\n",
      "weighted avg       0.77      0.77      0.77      1442\n",
      "\n"
     ]
    }
   ],
   "source": [
    "tree_to_preprocessed = DecisionTreeClassifier(random_state=42)\n",
    "\n",
    "cv_scores = cross_val_score(tree_to_preprocessed, X_train_to_preprocessed, y_train, cv=10, scoring='f1_weighted')\n",
    "\n",
    "print(\"\\nResultados de Validación Cruzada (10-Fold) con Term Occurrence (TO) + Stemming + Stopwords + Frecuencia:\")\n",
    "print(\"F1 ponderado por Fold:\", cv_scores)\n",
    "print(\"Promedio de F1 ponderado:\", cv_scores.mean())\n",
    "print(\"Desviación Estándar de F1 ponderado:\", cv_scores.std())\n",
    "\n",
    "tree_to_preprocessed.fit(X_train_to_preprocessed, y_train)\n",
    "y_pred_to_preprocessed = tree_to_preprocessed.predict(X_test_to_preprocessed)\n",
    "\n",
    "print(\"\\nResultados finales con el conjunto de prueba:\")\n",
    "print(\"F1 ponderado en el conjunto de prueba:\", f1_score(y_test, y_pred_to_preprocessed, average='weighted'))\n",
    "print(\"Reporte de Clasificación:\\n\", classification_report(y_test, y_pred_to_preprocessed))"
   ]
  },
  {
   "cell_type": "code",
   "execution_count": null,
   "metadata": {},
   "outputs": [
    {
     "name": "stdout",
     "output_type": "stream",
     "text": [
      "\n",
      "Resultados de Validación Cruzada (10-Fold) con TF-IDF + Stemming + Stopwords + Frecuencia:\n",
      "F1 ponderado por Fold: [0.75152638 0.74122698 0.78157401 0.73300122 0.73961862 0.75147693\n",
      " 0.7392628  0.73249987 0.7633756  0.76269379]\n",
      "Promedio de F1 ponderado: 0.7496256215738931\n",
      "Desviación Estándar de F1 ponderado: 0.014950940505472703\n",
      "\n",
      "Resultados finales con el conjunto de prueba:\n",
      "F1 ponderado en el conjunto de prueba: 0.7591351909763592\n",
      "Reporte de Clasificación:\n",
      "               precision    recall  f1-score   support\n",
      "\n",
      "           0       0.78      0.70      0.74       694\n",
      "           1       0.75      0.81      0.78       748\n",
      "\n",
      "    accuracy                           0.76      1442\n",
      "   macro avg       0.76      0.76      0.76      1442\n",
      "weighted avg       0.76      0.76      0.76      1442\n",
      "\n"
     ]
    }
   ],
   "source": [
    "tree_tfidf_preprocessed = DecisionTreeClassifier(random_state=42)\n",
    "\n",
    "cv_scores = cross_val_score(tree_tfidf_preprocessed, X_train_tfidf_preprocessed, y_train, cv=10, scoring='f1_weighted')\n",
    "\n",
    "print(\"\\nResultados de Validación Cruzada (10-Fold) con TF-IDF + Stemming + Stopwords + Frecuencia:\")\n",
    "print(\"F1 ponderado por Fold:\", cv_scores)\n",
    "print(\"Promedio de F1 ponderado:\", cv_scores.mean())\n",
    "print(\"Desviación Estándar de F1 ponderado:\", cv_scores.std())\n",
    "\n",
    "tree_tfidf_preprocessed.fit(X_train_tfidf_preprocessed, y_train)\n",
    "y_pred_tfidf_preprocessed = tree_tfidf_preprocessed.predict(X_test_tfidf_preprocessed)\n",
    "\n",
    "print(\"\\nResultados finales con el conjunto de prueba:\")\n",
    "print(\"F1 ponderado en el conjunto de prueba:\", f1_score(y_test, y_pred_tfidf_preprocessed, average='weighted'))\n",
    "print(\"Reporte de Clasificación:\\n\", classification_report(y_test, y_pred_tfidf_preprocessed))"
   ]
  },
  {
   "cell_type": "markdown",
   "metadata": {},
   "source": [
    "#### KNN"
   ]
  },
  {
   "cell_type": "code",
   "execution_count": null,
   "metadata": {},
   "outputs": [
    {
     "name": "stdout",
     "output_type": "stream",
     "text": [
      "\n",
      "Resultados de Validación Cruzada (10-Fold) con Term Occurrence (TO) + Stemming + Stopwords + Frecuencia:\n",
      "F1 ponderado por Fold: [0.41328701 0.37393732 0.39763749 0.39481708 0.37577243 0.40262399\n",
      " 0.39481708 0.36682293 0.38801337 0.38547693]\n",
      "Promedio de F1 ponderado: 0.38932056386745123\n",
      "Desviación Estándar de F1 ponderado: 0.013504771153930326\n",
      "\n",
      "Resultados finales con el conjunto de prueba:\n",
      "F1 ponderado en el conjunto de prueba: 0.4087829448151433\n",
      "Reporte de Clasificación:\n",
      "               precision    recall  f1-score   support\n",
      "\n",
      "           0       0.69      0.06      0.11       694\n",
      "           1       0.53      0.97      0.68       748\n",
      "\n",
      "    accuracy                           0.53      1442\n",
      "   macro avg       0.61      0.52      0.40      1442\n",
      "weighted avg       0.61      0.53      0.41      1442\n",
      "\n"
     ]
    }
   ],
   "source": [
    "knn_to_preprocessed = KNeighborsClassifier(n_neighbors=5)  \n",
    "\n",
    "cv_scores = cross_val_score(knn_to_preprocessed, X_train_to_preprocessed, y_train, cv=10, scoring='f1_weighted')\n",
    "\n",
    "print(\"\\nResultados de Validación Cruzada (10-Fold) con Term Occurrence (TO) + Stemming + Stopwords + Frecuencia:\")\n",
    "print(\"F1 ponderado por Fold:\", cv_scores)\n",
    "print(\"Promedio de F1 ponderado:\", cv_scores.mean())\n",
    "print(\"Desviación Estándar de F1 ponderado:\", cv_scores.std())\n",
    "\n",
    "knn_to_preprocessed.fit(X_train_to_preprocessed, y_train)\n",
    "y_pred_to_preprocessed = knn_to_preprocessed.predict(X_test_to_preprocessed)\n",
    "\n",
    "print(\"\\nResultados finales con el conjunto de prueba:\")\n",
    "print(\"F1 ponderado en el conjunto de prueba:\", f1_score(y_test, y_pred_to_preprocessed, average='weighted'))\n",
    "print(\"Reporte de Clasificación:\\n\", classification_report(y_test, y_pred_to_preprocessed))"
   ]
  },
  {
   "cell_type": "code",
   "execution_count": null,
   "metadata": {},
   "outputs": [
    {
     "name": "stdout",
     "output_type": "stream",
     "text": [
      "\n",
      "Resultados de Validación Cruzada (10-Fold) con TF-IDF + Stemming + Stopwords + Frecuencia:\n",
      "F1 ponderado por Fold: [0.34181552 0.33996886 0.33996886 0.34373696 0.33236578 0.33538531\n",
      " 0.33617854 0.33236578 0.34654361 0.33901812]\n",
      "Promedio de F1 ponderado: 0.33873473419321043\n",
      "Desviación Estándar de F1 ponderado: 0.004444080513302014\n",
      "\n",
      "Resultados finales con el conjunto de prueba:\n",
      "F1 ponderado en el conjunto de prueba: 0.3605074094746664\n",
      "Reporte de Clasificación:\n",
      "               precision    recall  f1-score   support\n",
      "\n",
      "           0       1.00      0.01      0.01       694\n",
      "           1       0.52      1.00      0.68       748\n",
      "\n",
      "    accuracy                           0.52      1442\n",
      "   macro avg       0.76      0.50      0.35      1442\n",
      "weighted avg       0.75      0.52      0.36      1442\n",
      "\n"
     ]
    }
   ],
   "source": [
    "knn_tfidf_preprocessed = KNeighborsClassifier(n_neighbors=5)  \n",
    "\n",
    "cv_scores = cross_val_score(knn_tfidf_preprocessed, X_train_tfidf_preprocessed, y_train, cv=10, scoring='f1_weighted')\n",
    "\n",
    "print(\"\\nResultados de Validación Cruzada (10-Fold) con TF-IDF + Stemming + Stopwords + Frecuencia:\")\n",
    "print(\"F1 ponderado por Fold:\", cv_scores)\n",
    "print(\"Promedio de F1 ponderado:\", cv_scores.mean())\n",
    "print(\"Desviación Estándar de F1 ponderado:\", cv_scores.std())\n",
    "\n",
    "knn_tfidf_preprocessed.fit(X_train_tfidf_preprocessed, y_train)\n",
    "y_pred_tfidf_preprocessed = knn_tfidf_preprocessed.predict(X_test_tfidf_preprocessed)\n",
    "\n",
    "print(\"\\nResultados finales con el conjunto de prueba:\")\n",
    "print(\"F1 ponderado en el conjunto de prueba:\", f1_score(y_test, y_pred_tfidf_preprocessed, average='weighted'))\n",
    "print(\"Reporte de Clasificación:\\n\", classification_report(y_test, y_pred_tfidf_preprocessed))"
   ]
  },
  {
   "cell_type": "code",
   "execution_count": 189,
   "metadata": {},
   "outputs": [
    {
     "data": {
      "image/png": "[encoded data removed]",
      "text/plain": [
       "<Figure size 1000x600 with 1 Axes>"
      ]
     },
     "metadata": {},
     "output_type": "display_data"
    }
   ],
   "source": [
    "\n",
    "algorithms = ['Logistic Regression', 'Decision Tree', 'KNN']\n",
    "f1_max = [0.87, 0.77, 0.79]\n",
    "\n",
    "sns.set(style=\"whitegrid\")\n",
    "\n",
    "plt.figure(figsize=(10, 6))\n",
    "barplot = sns.barplot(x=algorithms, y=f1_max, palette='Blues_d', hue=algorithms)\n",
    "\n",
    "plt.title('F1-Score Máximo por Algoritmo', fontsize=16, fontweight='bold', color='darkblue')\n",
    "plt.xlabel('Algoritmo', fontsize=14, fontweight='bold', color='darkblue')\n",
    "plt.ylabel('F1-Score Máximo', fontsize=14, fontweight='bold', color='darkblue')\n",
    "\n",
    "for p in barplot.patches:\n",
    "    barplot.annotate(format(p.get_height(), '.2f'),\n",
    "                     (p.get_x() + p.get_width() / 2., p.get_height()),\n",
    "                     ha='center', va='center', fontsize=12, color='black', fontweight='bold', \n",
    "                     xytext=(0, 10), textcoords='offset points')\n",
    "\n",
    "plt.tight_layout()\n",
    "plt.show()"
   ]
  },
  {
   "cell_type": "code",
   "execution_count": 198,
   "metadata": {},
   "outputs": [
    {
     "data": {
      "image/png": "[encoded data removed]",
      "text/plain": [
       "<Figure size 1000x600 with 1 Axes>"
      ]
     },
     "metadata": {},
     "output_type": "display_data"
    }
   ],
   "source": [
    "algorithms = ['Logistic Regression', 'Decision Tree', 'KNN']\n",
    "f1_scores_to = [0.8469, 0.80, 0.78]  \n",
    "f1_scores_tfidf = [0.88, 0.82, 0.80]  \n",
    "\n",
    "f1_scores_mean = [np.mean([f1_scores_to[i], f1_scores_tfidf[i]]) for i in range(len(algorithms))] \n",
    "\n",
    "sns.set(style=\"whitegrid\")\n",
    "\n",
    "fig, ax = plt.subplots(figsize=(10, 6))\n",
    "width = 0.3 \n",
    "\n",
    "x = np.arange(len(algorithms))  \n",
    "\n",
    "ax.bar(x - width/2, f1_scores_to, width, label='Term Occurrence (TO)', color=sns.color_palette(\"Blues_d\")[2], edgecolor='black', linewidth=1.5)\n",
    "ax.bar(x + width/2, f1_scores_tfidf, width, label='TF-IDF', color=sns.color_palette(\"Blues_d\")[0], edgecolor='black', linewidth=1.5)\n",
    "\n",
    "ax.set_xlabel('Algoritmo', fontsize=14, fontweight='bold', color='darkblue')\n",
    "ax.set_ylabel('F1-Score', fontsize=14, fontweight='bold', color='darkblue')\n",
    "ax.set_title('F1-Score Medio por Ponderación y Algoritmo', fontsize=16, fontweight='bold', color='darkblue')\n",
    "ax.set_xticks(x)\n",
    "ax.set_xticklabels(algorithms, fontsize=12, fontweight='bold', color='darkblue')\n",
    "\n",
    "ax.legend(fontsize=12, loc='upper left', bbox_to_anchor=(1, 1), title=\"Técnica de Ponderación\", title_fontsize=13)\n",
    "\n",
    "for i in range(len(algorithms)):\n",
    "    ax.text(x[i] - width/2, f1_scores_to[i] + 0.01, f'{f1_scores_to[i]:.2f}', ha='center', va='bottom', fontsize=12, color='black', fontweight='bold')\n",
    "    ax.text(x[i] + width/2, f1_scores_tfidf[i] + 0.01, f'{f1_scores_tfidf[i]:.2f}', ha='center', va='bottom', fontsize=12, color='black', fontweight='bold')\n",
    "\n",
    "plt.tight_layout()\n",
    "\n",
    "plt.subplots_adjust(right=0.85)\n",
    "plt.show()"
   ]
  },
  {
   "cell_type": "code",
   "execution_count": null,
   "metadata": {},
   "outputs": [
    {
     "data": {
      "image/png": "[encoded data removed]",
      "text/plain": [
       "<Figure size 1000x600 with 1 Axes>"
      ]
     },
     "metadata": {},
     "output_type": "display_data"
    }
   ],
   "source": [
    "import numpy as np\n",
    "import matplotlib.pyplot as plt\n",
    "import seaborn as sns\n",
    "\n",
    "algorithms = ['Logistic Regression', 'Decision Tree', 'KNN']\n",
    "f1_scores_stemming = [0.85, 0.78, 0.80]  \n",
    "f1_scores_stopwords = [0.87, 0.80, 0.79] \n",
    "\n",
    "sns.set(style=\"whitegrid\")\n",
    "fig, ax = plt.subplots(figsize=(10, 6))\n",
    "width = 0.3 \n",
    "\n",
    "x = np.arange(len(algorithms)) \n",
    "\n",
    "ax.bar(x - width/2, f1_scores_stemming, width, label='Stemming', color=sns.color_palette(\"Blues_d\")[2], edgecolor='black', linewidth=1.5)\n",
    "ax.bar(x + width/2, f1_scores_stopwords, width, label='Stopwords', color=sns.color_palette(\"Blues_d\")[0], edgecolor='black', linewidth=1.5)\n",
    "\n",
    "ax.set_xlabel('Algoritmo', fontsize=14, fontweight='bold', color='darkblue')\n",
    "ax.set_ylabel('F1-Score', fontsize=14, fontweight='bold', color='darkblue')\n",
    "ax.set_title('F1-Score Medio por Técnica de Reducción y Algoritmo', fontsize=16, fontweight='bold', color='darkblue')\n",
    "ax.set_xticks(x)\n",
    "ax.set_xticklabels(algorithms, fontsize=12, fontweight='bold', color='darkblue')\n",
    "\n",
    "ax.legend(fontsize=12, loc='upper left', bbox_to_anchor=(1, 1), title=\"Técnica de Reducción\", title_fontsize=13)\n",
    "\n",
    "for i in range(len(algorithms)):\n",
    "    ax.text(x[i] - width/2, f1_scores_stemming[i] + 0.01, f'{f1_scores_stemming[i]:.2f}', ha='center', va='bottom', fontsize=12, color='black', fontweight='bold')\n",
    "    ax.text(x[i] + width/2, f1_scores_stopwords[i] + 0.01, f'{f1_scores_stopwords[i]:.2f}', ha='center', va='bottom', fontsize=12, color='black', fontweight='bold')\n",
    "\n",
    "plt.tight_layout()\n",
    "plt.subplots_adjust(right=0.85)\n",
    "plt.show()"
   ]
  }
 ],
 "metadata": {
  "kernelspec": {
   "display_name": "base",
   "language": "python",
   "name": "python3"
  },
  "language_info": {
   "codemirror_mode": {
    "name": "ipython",
    "version": 3
   },
   "file_extension": ".py",
   "mimetype": "text/x-python",
   "name": "python",
   "nbconvert_exporter": "python",
   "pygments_lexer": "ipython3",
   "version": "3.12.3"
  }
 },
 "nbformat": 4,
 "nbformat_minor": 2
}
